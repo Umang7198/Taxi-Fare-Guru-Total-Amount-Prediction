{
 "cells": [
  {
   "cell_type": "code",
   "execution_count": 1,
   "id": "983e1921",
   "metadata": {
    "_cell_guid": "b1076dfc-b9ad-4769-8c92-a6c4dae69d19",
    "_uuid": "8f2839f25d086af736a60e9eeb907d3b93b6e0e5",
    "execution": {
     "iopub.execute_input": "2023-12-03T18:47:24.384809Z",
     "iopub.status.busy": "2023-12-03T18:47:24.384235Z",
     "iopub.status.idle": "2023-12-03T18:47:25.206344Z",
     "shell.execute_reply": "2023-12-03T18:47:25.205326Z"
    },
    "papermill": {
     "duration": 0.847999,
     "end_time": "2023-12-03T18:47:25.208751",
     "exception": false,
     "start_time": "2023-12-03T18:47:24.360752",
     "status": "completed"
    },
    "tags": []
   },
   "outputs": [
    {
     "name": "stdout",
     "output_type": "stream",
     "text": [
      "/kaggle/input/taxi-fare-guru-total-amount-prediction-challenge/sample.csv.csv\n",
      "/kaggle/input/taxi-fare-guru-total-amount-prediction-challenge/train.csv\n",
      "/kaggle/input/taxi-fare-guru-total-amount-prediction-challenge/test.csv\n"
     ]
    }
   ],
   "source": [
    "# This Python 3 environment comes with many helpful analytics libraries installed\n",
    "# It is defined by the kaggle/python Docker image: https://github.com/kaggle/docker-python\n",
    "# For example, here's several helpful packages to load\n",
    "\n",
    "import numpy as np # linear algebra\n",
    "import pandas as pd # data processing, CSV file I/O (e.g. pd.read_csv)\n",
    "\n",
    "# Input data files are available in the read-only \"../input/\" directory\n",
    "# For example, running this (by clicking run or pressing Shift+Enter) will list all files under the input directory\n",
    "\n",
    "import os\n",
    "for dirname, _, filenames in os.walk('/kaggle/input'):\n",
    "    for filename in filenames:\n",
    "        print(os.path.join(dirname, filename))\n",
    "\n",
    "# You can write up to 20GB to the current directory (/kaggle/working/) that gets preserved as output when you create a version using \"Save & Run All\" \n",
    "# You can also write temporary files to /kaggle/temp/, but they won't be saved outside of the current session"
   ]
  },
  {
   "cell_type": "code",
   "execution_count": 2,
   "id": "30fb007b",
   "metadata": {
    "execution": {
     "iopub.execute_input": "2023-12-03T18:47:25.254017Z",
     "iopub.status.busy": "2023-12-03T18:47:25.253178Z",
     "iopub.status.idle": "2023-12-03T18:47:27.197887Z",
     "shell.execute_reply": "2023-12-03T18:47:27.196632Z"
    },
    "papermill": {
     "duration": 1.970211,
     "end_time": "2023-12-03T18:47:27.200961",
     "exception": false,
     "start_time": "2023-12-03T18:47:25.230750",
     "status": "completed"
    },
    "tags": []
   },
   "outputs": [],
   "source": [
    "from sklearn.preprocessing import OneHotEncoder\n",
    "from sklearn.impute import SimpleImputer\n",
    "from sklearn.compose import ColumnTransformer\n",
    "from sklearn.pipeline import Pipeline\n",
    "import seaborn as sns\n",
    "import matplotlib.pyplot as plt\n",
    "import warnings"
   ]
  },
  {
   "cell_type": "code",
   "execution_count": 3,
   "id": "5de050da",
   "metadata": {
    "execution": {
     "iopub.execute_input": "2023-12-03T18:47:27.246212Z",
     "iopub.status.busy": "2023-12-03T18:47:27.245798Z",
     "iopub.status.idle": "2023-12-03T18:47:27.250709Z",
     "shell.execute_reply": "2023-12-03T18:47:27.249668Z"
    },
    "papermill": {
     "duration": 0.029964,
     "end_time": "2023-12-03T18:47:27.253065",
     "exception": false,
     "start_time": "2023-12-03T18:47:27.223101",
     "status": "completed"
    },
    "tags": []
   },
   "outputs": [],
   "source": [
    "warnings.filterwarnings('ignore')"
   ]
  },
  {
   "cell_type": "code",
   "execution_count": 4,
   "id": "e90ae79d",
   "metadata": {
    "execution": {
     "iopub.execute_input": "2023-12-03T18:47:27.298614Z",
     "iopub.status.busy": "2023-12-03T18:47:27.297477Z",
     "iopub.status.idle": "2023-12-03T18:47:28.484563Z",
     "shell.execute_reply": "2023-12-03T18:47:28.483324Z"
    },
    "papermill": {
     "duration": 1.21308,
     "end_time": "2023-12-03T18:47:28.487442",
     "exception": false,
     "start_time": "2023-12-03T18:47:27.274362",
     "status": "completed"
    },
    "tags": []
   },
   "outputs": [],
   "source": [
    "#train and test data is loaded\n",
    "train=pd.read_csv('/kaggle/input/taxi-fare-guru-total-amount-prediction-challenge/train.csv')\n",
    "test=pd.read_csv('/kaggle/input/taxi-fare-guru-total-amount-prediction-challenge/test.csv')"
   ]
  },
  {
   "cell_type": "markdown",
   "id": "7fe78631",
   "metadata": {
    "papermill": {
     "duration": 0.021382,
     "end_time": "2023-12-03T18:47:28.531090",
     "exception": false,
     "start_time": "2023-12-03T18:47:28.509708",
     "status": "completed"
    },
    "tags": []
   },
   "source": [
    "****"
   ]
  },
  {
   "cell_type": "markdown",
   "id": "5ac81342",
   "metadata": {
    "papermill": {
     "duration": 0.021133,
     "end_time": "2023-12-03T18:47:28.573687",
     "exception": false,
     "start_time": "2023-12-03T18:47:28.552554",
     "status": "completed"
    },
    "tags": []
   },
   "source": [
    "# EDA"
   ]
  },
  {
   "cell_type": "code",
   "execution_count": 5,
   "id": "e0c6f39a",
   "metadata": {
    "execution": {
     "iopub.execute_input": "2023-12-03T18:47:28.618233Z",
     "iopub.status.busy": "2023-12-03T18:47:28.617780Z",
     "iopub.status.idle": "2023-12-03T18:47:28.625184Z",
     "shell.execute_reply": "2023-12-03T18:47:28.624154Z"
    },
    "papermill": {
     "duration": 0.033072,
     "end_time": "2023-12-03T18:47:28.628201",
     "exception": false,
     "start_time": "2023-12-03T18:47:28.595129",
     "status": "completed"
    },
    "tags": []
   },
   "outputs": [
    {
     "data": {
      "text/plain": [
       "(175000, 17)"
      ]
     },
     "execution_count": 5,
     "metadata": {},
     "output_type": "execute_result"
    }
   ],
   "source": [
    "train.shape"
   ]
  },
  {
   "cell_type": "code",
   "execution_count": 6,
   "id": "f2a9c833",
   "metadata": {
    "execution": {
     "iopub.execute_input": "2023-12-03T18:47:28.672579Z",
     "iopub.status.busy": "2023-12-03T18:47:28.672216Z",
     "iopub.status.idle": "2023-12-03T18:47:28.779176Z",
     "shell.execute_reply": "2023-12-03T18:47:28.778120Z"
    },
    "papermill": {
     "duration": 0.132279,
     "end_time": "2023-12-03T18:47:28.781941",
     "exception": false,
     "start_time": "2023-12-03T18:47:28.649662",
     "status": "completed"
    },
    "tags": []
   },
   "outputs": [
    {
     "name": "stdout",
     "output_type": "stream",
     "text": [
      "<class 'pandas.core.frame.DataFrame'>\n",
      "RangeIndex: 175000 entries, 0 to 174999\n",
      "Data columns (total 17 columns):\n",
      " #   Column                 Non-Null Count   Dtype  \n",
      "---  ------                 --------------   -----  \n",
      " 0   VendorID               175000 non-null  int64  \n",
      " 1   tpep_pickup_datetime   175000 non-null  object \n",
      " 2   tpep_dropoff_datetime  175000 non-null  object \n",
      " 3   passenger_count        168923 non-null  float64\n",
      " 4   trip_distance          175000 non-null  float64\n",
      " 5   RatecodeID             168923 non-null  float64\n",
      " 6   store_and_fwd_flag     168923 non-null  object \n",
      " 7   PULocationID           175000 non-null  int64  \n",
      " 8   DOLocationID           175000 non-null  int64  \n",
      " 9   payment_type           175000 non-null  object \n",
      " 10  extra                  175000 non-null  float64\n",
      " 11  tip_amount             175000 non-null  float64\n",
      " 12  tolls_amount           175000 non-null  float64\n",
      " 13  improvement_surcharge  175000 non-null  float64\n",
      " 14  total_amount           175000 non-null  float64\n",
      " 15  congestion_surcharge   168923 non-null  float64\n",
      " 16  Airport_fee            168923 non-null  float64\n",
      "dtypes: float64(10), int64(3), object(4)\n",
      "memory usage: 22.7+ MB\n"
     ]
    }
   ],
   "source": [
    "train.info()"
   ]
  },
  {
   "cell_type": "code",
   "execution_count": 7,
   "id": "98037f4f",
   "metadata": {
    "execution": {
     "iopub.execute_input": "2023-12-03T18:47:28.828446Z",
     "iopub.status.busy": "2023-12-03T18:47:28.827265Z",
     "iopub.status.idle": "2023-12-03T18:47:28.857596Z",
     "shell.execute_reply": "2023-12-03T18:47:28.856470Z"
    },
    "papermill": {
     "duration": 0.056163,
     "end_time": "2023-12-03T18:47:28.860100",
     "exception": false,
     "start_time": "2023-12-03T18:47:28.803937",
     "status": "completed"
    },
    "tags": []
   },
   "outputs": [
    {
     "data": {
      "text/html": [
       "<div>\n",
       "<style scoped>\n",
       "    .dataframe tbody tr th:only-of-type {\n",
       "        vertical-align: middle;\n",
       "    }\n",
       "\n",
       "    .dataframe tbody tr th {\n",
       "        vertical-align: top;\n",
       "    }\n",
       "\n",
       "    .dataframe thead th {\n",
       "        text-align: right;\n",
       "    }\n",
       "</style>\n",
       "<table border=\"1\" class=\"dataframe\">\n",
       "  <thead>\n",
       "    <tr style=\"text-align: right;\">\n",
       "      <th></th>\n",
       "      <th>VendorID</th>\n",
       "      <th>tpep_pickup_datetime</th>\n",
       "      <th>tpep_dropoff_datetime</th>\n",
       "      <th>passenger_count</th>\n",
       "      <th>trip_distance</th>\n",
       "      <th>RatecodeID</th>\n",
       "      <th>store_and_fwd_flag</th>\n",
       "      <th>PULocationID</th>\n",
       "      <th>DOLocationID</th>\n",
       "      <th>payment_type</th>\n",
       "      <th>extra</th>\n",
       "      <th>tip_amount</th>\n",
       "      <th>tolls_amount</th>\n",
       "      <th>improvement_surcharge</th>\n",
       "      <th>total_amount</th>\n",
       "      <th>congestion_surcharge</th>\n",
       "      <th>Airport_fee</th>\n",
       "    </tr>\n",
       "  </thead>\n",
       "  <tbody>\n",
       "    <tr>\n",
       "      <th>0</th>\n",
       "      <td>1</td>\n",
       "      <td>2023-06-28 17:20:21</td>\n",
       "      <td>2023-06-28 16:34:45</td>\n",
       "      <td>1.0</td>\n",
       "      <td>2.14</td>\n",
       "      <td>1.0</td>\n",
       "      <td>N</td>\n",
       "      <td>120</td>\n",
       "      <td>9</td>\n",
       "      <td>Credit Card</td>\n",
       "      <td>2.5</td>\n",
       "      <td>7.165589</td>\n",
       "      <td>0.0</td>\n",
       "      <td>1.0</td>\n",
       "      <td>20.64</td>\n",
       "      <td>2.5</td>\n",
       "      <td>0.0</td>\n",
       "    </tr>\n",
       "    <tr>\n",
       "      <th>1</th>\n",
       "      <td>0</td>\n",
       "      <td>2023-06-29 23:05:01</td>\n",
       "      <td>2023-06-29 22:01:35</td>\n",
       "      <td>1.0</td>\n",
       "      <td>2.70</td>\n",
       "      <td>1.0</td>\n",
       "      <td>N</td>\n",
       "      <td>15</td>\n",
       "      <td>215</td>\n",
       "      <td>Credit Card</td>\n",
       "      <td>3.5</td>\n",
       "      <td>6.067401</td>\n",
       "      <td>0.0</td>\n",
       "      <td>1.0</td>\n",
       "      <td>25.55</td>\n",
       "      <td>2.5</td>\n",
       "      <td>0.0</td>\n",
       "    </tr>\n",
       "    <tr>\n",
       "      <th>2</th>\n",
       "      <td>1</td>\n",
       "      <td>2023-06-30 10:19:31</td>\n",
       "      <td>2023-06-30 11:13:10</td>\n",
       "      <td>1.0</td>\n",
       "      <td>1.15</td>\n",
       "      <td>1.0</td>\n",
       "      <td>N</td>\n",
       "      <td>167</td>\n",
       "      <td>223</td>\n",
       "      <td>Credit Card</td>\n",
       "      <td>0.0</td>\n",
       "      <td>4.111547</td>\n",
       "      <td>0.0</td>\n",
       "      <td>1.0</td>\n",
       "      <td>17.64</td>\n",
       "      <td>2.5</td>\n",
       "      <td>0.0</td>\n",
       "    </tr>\n",
       "    <tr>\n",
       "      <th>3</th>\n",
       "      <td>0</td>\n",
       "      <td>2023-06-29 13:23:09</td>\n",
       "      <td>2023-06-29 14:20:01</td>\n",
       "      <td>1.0</td>\n",
       "      <td>0.40</td>\n",
       "      <td>1.0</td>\n",
       "      <td>N</td>\n",
       "      <td>128</td>\n",
       "      <td>239</td>\n",
       "      <td>Credit Card</td>\n",
       "      <td>2.5</td>\n",
       "      <td>6.411079</td>\n",
       "      <td>0.0</td>\n",
       "      <td>1.0</td>\n",
       "      <td>12.80</td>\n",
       "      <td>2.5</td>\n",
       "      <td>0.0</td>\n",
       "    </tr>\n",
       "    <tr>\n",
       "      <th>4</th>\n",
       "      <td>1</td>\n",
       "      <td>2023-06-29 22:03:32</td>\n",
       "      <td>2023-06-29 22:22:22</td>\n",
       "      <td>3.0</td>\n",
       "      <td>1.10</td>\n",
       "      <td>1.0</td>\n",
       "      <td>N</td>\n",
       "      <td>203</td>\n",
       "      <td>52</td>\n",
       "      <td>Credit Card</td>\n",
       "      <td>1.0</td>\n",
       "      <td>4.769377</td>\n",
       "      <td>0.0</td>\n",
       "      <td>1.0</td>\n",
       "      <td>18.00</td>\n",
       "      <td>2.5</td>\n",
       "      <td>0.0</td>\n",
       "    </tr>\n",
       "  </tbody>\n",
       "</table>\n",
       "</div>"
      ],
      "text/plain": [
       "   VendorID tpep_pickup_datetime tpep_dropoff_datetime  passenger_count  \\\n",
       "0         1  2023-06-28 17:20:21   2023-06-28 16:34:45              1.0   \n",
       "1         0  2023-06-29 23:05:01   2023-06-29 22:01:35              1.0   \n",
       "2         1  2023-06-30 10:19:31   2023-06-30 11:13:10              1.0   \n",
       "3         0  2023-06-29 13:23:09   2023-06-29 14:20:01              1.0   \n",
       "4         1  2023-06-29 22:03:32   2023-06-29 22:22:22              3.0   \n",
       "\n",
       "   trip_distance  RatecodeID store_and_fwd_flag  PULocationID  DOLocationID  \\\n",
       "0           2.14         1.0                  N           120             9   \n",
       "1           2.70         1.0                  N            15           215   \n",
       "2           1.15         1.0                  N           167           223   \n",
       "3           0.40         1.0                  N           128           239   \n",
       "4           1.10         1.0                  N           203            52   \n",
       "\n",
       "  payment_type  extra  tip_amount  tolls_amount  improvement_surcharge  \\\n",
       "0  Credit Card    2.5    7.165589           0.0                    1.0   \n",
       "1  Credit Card    3.5    6.067401           0.0                    1.0   \n",
       "2  Credit Card    0.0    4.111547           0.0                    1.0   \n",
       "3  Credit Card    2.5    6.411079           0.0                    1.0   \n",
       "4  Credit Card    1.0    4.769377           0.0                    1.0   \n",
       "\n",
       "   total_amount  congestion_surcharge  Airport_fee  \n",
       "0         20.64                   2.5          0.0  \n",
       "1         25.55                   2.5          0.0  \n",
       "2         17.64                   2.5          0.0  \n",
       "3         12.80                   2.5          0.0  \n",
       "4         18.00                   2.5          0.0  "
      ]
     },
     "execution_count": 7,
     "metadata": {},
     "output_type": "execute_result"
    }
   ],
   "source": [
    "train.head()"
   ]
  },
  {
   "cell_type": "code",
   "execution_count": 8,
   "id": "92827a3b",
   "metadata": {
    "_kg_hide-input": true,
    "execution": {
     "iopub.execute_input": "2023-12-03T18:47:28.906046Z",
     "iopub.status.busy": "2023-12-03T18:47:28.905611Z",
     "iopub.status.idle": "2023-12-03T18:47:29.037552Z",
     "shell.execute_reply": "2023-12-03T18:47:29.036456Z"
    },
    "papermill": {
     "duration": 0.158015,
     "end_time": "2023-12-03T18:47:29.040048",
     "exception": false,
     "start_time": "2023-12-03T18:47:28.882033",
     "status": "completed"
    },
    "tags": []
   },
   "outputs": [
    {
     "data": {
      "text/html": [
       "<div>\n",
       "<style scoped>\n",
       "    .dataframe tbody tr th:only-of-type {\n",
       "        vertical-align: middle;\n",
       "    }\n",
       "\n",
       "    .dataframe tbody tr th {\n",
       "        vertical-align: top;\n",
       "    }\n",
       "\n",
       "    .dataframe thead th {\n",
       "        text-align: right;\n",
       "    }\n",
       "</style>\n",
       "<table border=\"1\" class=\"dataframe\">\n",
       "  <thead>\n",
       "    <tr style=\"text-align: right;\">\n",
       "      <th></th>\n",
       "      <th>VendorID</th>\n",
       "      <th>passenger_count</th>\n",
       "      <th>trip_distance</th>\n",
       "      <th>RatecodeID</th>\n",
       "      <th>PULocationID</th>\n",
       "      <th>DOLocationID</th>\n",
       "      <th>extra</th>\n",
       "      <th>tip_amount</th>\n",
       "      <th>tolls_amount</th>\n",
       "      <th>improvement_surcharge</th>\n",
       "      <th>total_amount</th>\n",
       "      <th>congestion_surcharge</th>\n",
       "      <th>Airport_fee</th>\n",
       "    </tr>\n",
       "  </thead>\n",
       "  <tbody>\n",
       "    <tr>\n",
       "      <th>count</th>\n",
       "      <td>175000.000000</td>\n",
       "      <td>168923.000000</td>\n",
       "      <td>175000.000000</td>\n",
       "      <td>168923.000000</td>\n",
       "      <td>175000.000000</td>\n",
       "      <td>175000.000000</td>\n",
       "      <td>175000.000000</td>\n",
       "      <td>175000.000000</td>\n",
       "      <td>175000.000000</td>\n",
       "      <td>175000.000000</td>\n",
       "      <td>175000.000000</td>\n",
       "      <td>168923.000000</td>\n",
       "      <td>168923.000000</td>\n",
       "    </tr>\n",
       "    <tr>\n",
       "      <th>mean</th>\n",
       "      <td>0.728377</td>\n",
       "      <td>1.357678</td>\n",
       "      <td>5.145930</td>\n",
       "      <td>1.518307</td>\n",
       "      <td>132.710349</td>\n",
       "      <td>132.701429</td>\n",
       "      <td>1.932143</td>\n",
       "      <td>6.127497</td>\n",
       "      <td>0.646816</td>\n",
       "      <td>0.979689</td>\n",
       "      <td>29.633901</td>\n",
       "      <td>2.246971</td>\n",
       "      <td>0.158825</td>\n",
       "    </tr>\n",
       "    <tr>\n",
       "      <th>std</th>\n",
       "      <td>0.445606</td>\n",
       "      <td>0.891283</td>\n",
       "      <td>394.971052</td>\n",
       "      <td>6.514678</td>\n",
       "      <td>76.148799</td>\n",
       "      <td>76.192493</td>\n",
       "      <td>1.948497</td>\n",
       "      <td>4.610834</td>\n",
       "      <td>2.328274</td>\n",
       "      <td>0.198775</td>\n",
       "      <td>25.425206</td>\n",
       "      <td>0.819216</td>\n",
       "      <td>0.511968</td>\n",
       "    </tr>\n",
       "    <tr>\n",
       "      <th>min</th>\n",
       "      <td>0.000000</td>\n",
       "      <td>0.000000</td>\n",
       "      <td>0.000000</td>\n",
       "      <td>1.000000</td>\n",
       "      <td>1.000000</td>\n",
       "      <td>1.000000</td>\n",
       "      <td>-7.500000</td>\n",
       "      <td>0.000079</td>\n",
       "      <td>-29.300000</td>\n",
       "      <td>-1.000000</td>\n",
       "      <td>-576.750000</td>\n",
       "      <td>-2.500000</td>\n",
       "      <td>-1.750000</td>\n",
       "    </tr>\n",
       "    <tr>\n",
       "      <th>25%</th>\n",
       "      <td>0.000000</td>\n",
       "      <td>1.000000</td>\n",
       "      <td>1.080000</td>\n",
       "      <td>1.000000</td>\n",
       "      <td>67.000000</td>\n",
       "      <td>67.000000</td>\n",
       "      <td>0.000000</td>\n",
       "      <td>3.473321</td>\n",
       "      <td>0.000000</td>\n",
       "      <td>1.000000</td>\n",
       "      <td>16.300000</td>\n",
       "      <td>2.500000</td>\n",
       "      <td>0.000000</td>\n",
       "    </tr>\n",
       "    <tr>\n",
       "      <th>50%</th>\n",
       "      <td>1.000000</td>\n",
       "      <td>1.000000</td>\n",
       "      <td>1.840000</td>\n",
       "      <td>1.000000</td>\n",
       "      <td>133.000000</td>\n",
       "      <td>133.000000</td>\n",
       "      <td>1.000000</td>\n",
       "      <td>5.286217</td>\n",
       "      <td>0.000000</td>\n",
       "      <td>1.000000</td>\n",
       "      <td>21.450000</td>\n",
       "      <td>2.500000</td>\n",
       "      <td>0.000000</td>\n",
       "    </tr>\n",
       "    <tr>\n",
       "      <th>75%</th>\n",
       "      <td>1.000000</td>\n",
       "      <td>1.000000</td>\n",
       "      <td>3.610000</td>\n",
       "      <td>1.000000</td>\n",
       "      <td>199.000000</td>\n",
       "      <td>199.000000</td>\n",
       "      <td>2.500000</td>\n",
       "      <td>7.502746</td>\n",
       "      <td>0.000000</td>\n",
       "      <td>1.000000</td>\n",
       "      <td>31.800000</td>\n",
       "      <td>2.500000</td>\n",
       "      <td>0.000000</td>\n",
       "    </tr>\n",
       "    <tr>\n",
       "      <th>max</th>\n",
       "      <td>2.000000</td>\n",
       "      <td>9.000000</td>\n",
       "      <td>135182.060000</td>\n",
       "      <td>99.000000</td>\n",
       "      <td>264.000000</td>\n",
       "      <td>264.000000</td>\n",
       "      <td>11.750000</td>\n",
       "      <td>484.876151</td>\n",
       "      <td>80.000000</td>\n",
       "      <td>1.000000</td>\n",
       "      <td>587.250000</td>\n",
       "      <td>2.500000</td>\n",
       "      <td>1.750000</td>\n",
       "    </tr>\n",
       "  </tbody>\n",
       "</table>\n",
       "</div>"
      ],
      "text/plain": [
       "            VendorID  passenger_count  trip_distance     RatecodeID  \\\n",
       "count  175000.000000    168923.000000  175000.000000  168923.000000   \n",
       "mean        0.728377         1.357678       5.145930       1.518307   \n",
       "std         0.445606         0.891283     394.971052       6.514678   \n",
       "min         0.000000         0.000000       0.000000       1.000000   \n",
       "25%         0.000000         1.000000       1.080000       1.000000   \n",
       "50%         1.000000         1.000000       1.840000       1.000000   \n",
       "75%         1.000000         1.000000       3.610000       1.000000   \n",
       "max         2.000000         9.000000  135182.060000      99.000000   \n",
       "\n",
       "        PULocationID   DOLocationID          extra     tip_amount  \\\n",
       "count  175000.000000  175000.000000  175000.000000  175000.000000   \n",
       "mean      132.710349     132.701429       1.932143       6.127497   \n",
       "std        76.148799      76.192493       1.948497       4.610834   \n",
       "min         1.000000       1.000000      -7.500000       0.000079   \n",
       "25%        67.000000      67.000000       0.000000       3.473321   \n",
       "50%       133.000000     133.000000       1.000000       5.286217   \n",
       "75%       199.000000     199.000000       2.500000       7.502746   \n",
       "max       264.000000     264.000000      11.750000     484.876151   \n",
       "\n",
       "        tolls_amount  improvement_surcharge   total_amount  \\\n",
       "count  175000.000000          175000.000000  175000.000000   \n",
       "mean        0.646816               0.979689      29.633901   \n",
       "std         2.328274               0.198775      25.425206   \n",
       "min       -29.300000              -1.000000    -576.750000   \n",
       "25%         0.000000               1.000000      16.300000   \n",
       "50%         0.000000               1.000000      21.450000   \n",
       "75%         0.000000               1.000000      31.800000   \n",
       "max        80.000000               1.000000     587.250000   \n",
       "\n",
       "       congestion_surcharge    Airport_fee  \n",
       "count         168923.000000  168923.000000  \n",
       "mean               2.246971       0.158825  \n",
       "std                0.819216       0.511968  \n",
       "min               -2.500000      -1.750000  \n",
       "25%                2.500000       0.000000  \n",
       "50%                2.500000       0.000000  \n",
       "75%                2.500000       0.000000  \n",
       "max                2.500000       1.750000  "
      ]
     },
     "execution_count": 8,
     "metadata": {},
     "output_type": "execute_result"
    }
   ],
   "source": [
    "train.describe()"
   ]
  },
  {
   "cell_type": "code",
   "execution_count": 9,
   "id": "0ab5d58b",
   "metadata": {
    "execution": {
     "iopub.execute_input": "2023-12-03T18:47:29.145559Z",
     "iopub.status.busy": "2023-12-03T18:47:29.144498Z",
     "iopub.status.idle": "2023-12-03T18:47:29.231188Z",
     "shell.execute_reply": "2023-12-03T18:47:29.229951Z"
    },
    "papermill": {
     "duration": 0.171339,
     "end_time": "2023-12-03T18:47:29.233761",
     "exception": false,
     "start_time": "2023-12-03T18:47:29.062422",
     "status": "completed"
    },
    "tags": []
   },
   "outputs": [
    {
     "data": {
      "text/plain": [
       "VendorID                    0\n",
       "tpep_pickup_datetime        0\n",
       "tpep_dropoff_datetime       0\n",
       "passenger_count          6077\n",
       "trip_distance               0\n",
       "RatecodeID               6077\n",
       "store_and_fwd_flag       6077\n",
       "PULocationID                0\n",
       "DOLocationID                0\n",
       "payment_type                0\n",
       "extra                       0\n",
       "tip_amount                  0\n",
       "tolls_amount                0\n",
       "improvement_surcharge       0\n",
       "total_amount                0\n",
       "congestion_surcharge     6077\n",
       "Airport_fee              6077\n",
       "dtype: int64"
      ]
     },
     "execution_count": 9,
     "metadata": {},
     "output_type": "execute_result"
    }
   ],
   "source": [
    "train.isnull().sum()"
   ]
  },
  {
   "cell_type": "code",
   "execution_count": 10,
   "id": "41967b49",
   "metadata": {
    "execution": {
     "iopub.execute_input": "2023-12-03T18:47:29.281529Z",
     "iopub.status.busy": "2023-12-03T18:47:29.281123Z",
     "iopub.status.idle": "2023-12-03T18:47:29.309793Z",
     "shell.execute_reply": "2023-12-03T18:47:29.308900Z"
    },
    "papermill": {
     "duration": 0.055193,
     "end_time": "2023-12-03T18:47:29.312023",
     "exception": false,
     "start_time": "2023-12-03T18:47:29.256830",
     "status": "completed"
    },
    "tags": []
   },
   "outputs": [
    {
     "name": "stdout",
     "output_type": "stream",
     "text": [
      "Missing value in passenger_count:  3.47 %\n",
      "Missing value in RatecodeID:  3.47 %\n",
      "Missing value in store_and_fwd_flag:  3.47 %\n",
      "Missing value in congestion_surcharge:  3.47 %\n",
      "Missing value in Airport_fee:  3.47 %\n"
     ]
    }
   ],
   "source": [
    "print('Missing value in passenger_count: ',round(train['passenger_count'].isnull().mean(),4)*100,'%')\n",
    "print('Missing value in RatecodeID: ',round(train['RatecodeID'].isnull().mean(),4)*100,'%')\n",
    "print('Missing value in store_and_fwd_flag: ',round(train['store_and_fwd_flag'].isnull().mean(),4)*100,'%')\n",
    "print('Missing value in congestion_surcharge: ',round(train['congestion_surcharge'].isnull().mean(),4)*100,'%')\n",
    "print('Missing value in Airport_fee: ',round(train['Airport_fee'].isnull().mean(),4)*100,'%')"
   ]
  },
  {
   "cell_type": "code",
   "execution_count": 11,
   "id": "f1a7ea74",
   "metadata": {
    "execution": {
     "iopub.execute_input": "2023-12-03T18:47:29.360047Z",
     "iopub.status.busy": "2023-12-03T18:47:29.359277Z",
     "iopub.status.idle": "2023-12-03T18:47:29.366019Z",
     "shell.execute_reply": "2023-12-03T18:47:29.364883Z"
    },
    "papermill": {
     "duration": 0.033354,
     "end_time": "2023-12-03T18:47:29.368375",
     "exception": false,
     "start_time": "2023-12-03T18:47:29.335021",
     "status": "completed"
    },
    "tags": []
   },
   "outputs": [],
   "source": [
    "#function gives the number of outliers for the given column\n",
    "def count_outliers(column):\n",
    "    Q1,Q3=np.percentile(column,(25,75))\n",
    "    IQR = Q3 - Q1\n",
    "    lower_bound = Q1 - 1.5 * IQR\n",
    "    upper_bound = Q3 + 1.5 * IQR\n",
    "    outliers = column[(column < lower_bound) | (column > upper_bound)]\n",
    "    return len(outliers)"
   ]
  },
  {
   "cell_type": "code",
   "execution_count": 12,
   "id": "5ee24a0f",
   "metadata": {
    "execution": {
     "iopub.execute_input": "2023-12-03T18:47:29.416247Z",
     "iopub.status.busy": "2023-12-03T18:47:29.415830Z",
     "iopub.status.idle": "2023-12-03T18:47:29.442351Z",
     "shell.execute_reply": "2023-12-03T18:47:29.441227Z"
    },
    "papermill": {
     "duration": 0.053338,
     "end_time": "2023-12-03T18:47:29.444970",
     "exception": false,
     "start_time": "2023-12-03T18:47:29.391632",
     "status": "completed"
    },
    "tags": []
   },
   "outputs": [],
   "source": [
    "trip_distance_outliers=count_outliers(train['trip_distance'])\n",
    "passenger_count_outliers=count_outliers(train['passenger_count'])\n",
    "tolls_amount_outliers=count_outliers(train['tolls_amount'])\n",
    "tip_amount_outliers=count_outliers(train['tip_amount'])"
   ]
  },
  {
   "cell_type": "code",
   "execution_count": 13,
   "id": "3d5e7f9c",
   "metadata": {
    "execution": {
     "iopub.execute_input": "2023-12-03T18:47:29.492604Z",
     "iopub.status.busy": "2023-12-03T18:47:29.492209Z",
     "iopub.status.idle": "2023-12-03T18:47:29.499691Z",
     "shell.execute_reply": "2023-12-03T18:47:29.498719Z"
    },
    "papermill": {
     "duration": 0.034234,
     "end_time": "2023-12-03T18:47:29.502434",
     "exception": false,
     "start_time": "2023-12-03T18:47:29.468200",
     "status": "completed"
    },
    "tags": []
   },
   "outputs": [
    {
     "name": "stdout",
     "output_type": "stream",
     "text": [
      "**Outliers**\n",
      "trip_distance:  13.79 %\n",
      "passenger_count: 0.0 %\n",
      "tolls_amount:  8.96 %\n",
      "tip_amount:  6.41 %\n"
     ]
    }
   ],
   "source": [
    "#Percentage wise outliers of trip_distance,passenger_count,tolls_amount,tip_amount,Airport_fee,congestion_surcharge\n",
    "print('**Outliers**')\n",
    "print('trip_distance: ',round((trip_distance_outliers/175000)*100,2),'%')\n",
    "print('passenger_count:',round((passenger_count_outliers/175000)*100,2),'%')\n",
    "print('tolls_amount: ',round((tolls_amount_outliers/175000)*100,2),'%')\n",
    "print('tip_amount: ',round((tip_amount_outliers/175000)*100,2),'%')"
   ]
  },
  {
   "cell_type": "markdown",
   "id": "e737cf1c",
   "metadata": {
    "papermill": {
     "duration": 0.022886,
     "end_time": "2023-12-03T18:47:29.548373",
     "exception": false,
     "start_time": "2023-12-03T18:47:29.525487",
     "status": "completed"
    },
    "tags": []
   },
   "source": [
    " **Insights**\n",
    "* There are **missing values** in passenger_count,RatecodeID, store_and_fwd_flag,congestion_surcharge,Airport_fee\n",
    "* There are 13.79 %, 8.96 %, 6.41 % **outliers** present in trip_distance,tolls_amount,tip_amount columns respectively."
   ]
  },
  {
   "cell_type": "code",
   "execution_count": 14,
   "id": "0b690ea8",
   "metadata": {
    "execution": {
     "iopub.execute_input": "2023-12-03T18:47:29.596164Z",
     "iopub.status.busy": "2023-12-03T18:47:29.595773Z",
     "iopub.status.idle": "2023-12-03T18:47:29.620109Z",
     "shell.execute_reply": "2023-12-03T18:47:29.618985Z"
    },
    "papermill": {
     "duration": 0.050722,
     "end_time": "2023-12-03T18:47:29.622423",
     "exception": false,
     "start_time": "2023-12-03T18:47:29.571701",
     "status": "completed"
    },
    "tags": []
   },
   "outputs": [
    {
     "data": {
      "text/html": [
       "<div>\n",
       "<style scoped>\n",
       "    .dataframe tbody tr th:only-of-type {\n",
       "        vertical-align: middle;\n",
       "    }\n",
       "\n",
       "    .dataframe tbody tr th {\n",
       "        vertical-align: top;\n",
       "    }\n",
       "\n",
       "    .dataframe thead th {\n",
       "        text-align: right;\n",
       "    }\n",
       "</style>\n",
       "<table border=\"1\" class=\"dataframe\">\n",
       "  <thead>\n",
       "    <tr style=\"text-align: right;\">\n",
       "      <th></th>\n",
       "      <th>VendorID</th>\n",
       "      <th>tpep_pickup_datetime</th>\n",
       "      <th>tpep_dropoff_datetime</th>\n",
       "      <th>passenger_count</th>\n",
       "      <th>trip_distance</th>\n",
       "      <th>RatecodeID</th>\n",
       "      <th>store_and_fwd_flag</th>\n",
       "      <th>PULocationID</th>\n",
       "      <th>DOLocationID</th>\n",
       "      <th>payment_type</th>\n",
       "      <th>extra</th>\n",
       "      <th>tip_amount</th>\n",
       "      <th>tolls_amount</th>\n",
       "      <th>improvement_surcharge</th>\n",
       "      <th>total_amount</th>\n",
       "      <th>congestion_surcharge</th>\n",
       "      <th>Airport_fee</th>\n",
       "    </tr>\n",
       "  </thead>\n",
       "  <tbody>\n",
       "    <tr>\n",
       "      <th>0</th>\n",
       "      <td>1</td>\n",
       "      <td>2023-06-28 17:20:21</td>\n",
       "      <td>2023-06-28 16:34:45</td>\n",
       "      <td>1.0</td>\n",
       "      <td>2.14</td>\n",
       "      <td>1.0</td>\n",
       "      <td>N</td>\n",
       "      <td>120</td>\n",
       "      <td>9</td>\n",
       "      <td>Credit Card</td>\n",
       "      <td>2.5</td>\n",
       "      <td>7.165589</td>\n",
       "      <td>0.0</td>\n",
       "      <td>1.0</td>\n",
       "      <td>20.64</td>\n",
       "      <td>2.5</td>\n",
       "      <td>0.0</td>\n",
       "    </tr>\n",
       "    <tr>\n",
       "      <th>1</th>\n",
       "      <td>0</td>\n",
       "      <td>2023-06-29 23:05:01</td>\n",
       "      <td>2023-06-29 22:01:35</td>\n",
       "      <td>1.0</td>\n",
       "      <td>2.70</td>\n",
       "      <td>1.0</td>\n",
       "      <td>N</td>\n",
       "      <td>15</td>\n",
       "      <td>215</td>\n",
       "      <td>Credit Card</td>\n",
       "      <td>3.5</td>\n",
       "      <td>6.067401</td>\n",
       "      <td>0.0</td>\n",
       "      <td>1.0</td>\n",
       "      <td>25.55</td>\n",
       "      <td>2.5</td>\n",
       "      <td>0.0</td>\n",
       "    </tr>\n",
       "    <tr>\n",
       "      <th>2</th>\n",
       "      <td>1</td>\n",
       "      <td>2023-06-30 10:19:31</td>\n",
       "      <td>2023-06-30 11:13:10</td>\n",
       "      <td>1.0</td>\n",
       "      <td>1.15</td>\n",
       "      <td>1.0</td>\n",
       "      <td>N</td>\n",
       "      <td>167</td>\n",
       "      <td>223</td>\n",
       "      <td>Credit Card</td>\n",
       "      <td>0.0</td>\n",
       "      <td>4.111547</td>\n",
       "      <td>0.0</td>\n",
       "      <td>1.0</td>\n",
       "      <td>17.64</td>\n",
       "      <td>2.5</td>\n",
       "      <td>0.0</td>\n",
       "    </tr>\n",
       "    <tr>\n",
       "      <th>3</th>\n",
       "      <td>0</td>\n",
       "      <td>2023-06-29 13:23:09</td>\n",
       "      <td>2023-06-29 14:20:01</td>\n",
       "      <td>1.0</td>\n",
       "      <td>0.40</td>\n",
       "      <td>1.0</td>\n",
       "      <td>N</td>\n",
       "      <td>128</td>\n",
       "      <td>239</td>\n",
       "      <td>Credit Card</td>\n",
       "      <td>2.5</td>\n",
       "      <td>6.411079</td>\n",
       "      <td>0.0</td>\n",
       "      <td>1.0</td>\n",
       "      <td>12.80</td>\n",
       "      <td>2.5</td>\n",
       "      <td>0.0</td>\n",
       "    </tr>\n",
       "    <tr>\n",
       "      <th>4</th>\n",
       "      <td>1</td>\n",
       "      <td>2023-06-29 22:03:32</td>\n",
       "      <td>2023-06-29 22:22:22</td>\n",
       "      <td>3.0</td>\n",
       "      <td>1.10</td>\n",
       "      <td>1.0</td>\n",
       "      <td>N</td>\n",
       "      <td>203</td>\n",
       "      <td>52</td>\n",
       "      <td>Credit Card</td>\n",
       "      <td>1.0</td>\n",
       "      <td>4.769377</td>\n",
       "      <td>0.0</td>\n",
       "      <td>1.0</td>\n",
       "      <td>18.00</td>\n",
       "      <td>2.5</td>\n",
       "      <td>0.0</td>\n",
       "    </tr>\n",
       "  </tbody>\n",
       "</table>\n",
       "</div>"
      ],
      "text/plain": [
       "   VendorID tpep_pickup_datetime tpep_dropoff_datetime  passenger_count  \\\n",
       "0         1  2023-06-28 17:20:21   2023-06-28 16:34:45              1.0   \n",
       "1         0  2023-06-29 23:05:01   2023-06-29 22:01:35              1.0   \n",
       "2         1  2023-06-30 10:19:31   2023-06-30 11:13:10              1.0   \n",
       "3         0  2023-06-29 13:23:09   2023-06-29 14:20:01              1.0   \n",
       "4         1  2023-06-29 22:03:32   2023-06-29 22:22:22              3.0   \n",
       "\n",
       "   trip_distance  RatecodeID store_and_fwd_flag  PULocationID  DOLocationID  \\\n",
       "0           2.14         1.0                  N           120             9   \n",
       "1           2.70         1.0                  N            15           215   \n",
       "2           1.15         1.0                  N           167           223   \n",
       "3           0.40         1.0                  N           128           239   \n",
       "4           1.10         1.0                  N           203            52   \n",
       "\n",
       "  payment_type  extra  tip_amount  tolls_amount  improvement_surcharge  \\\n",
       "0  Credit Card    2.5    7.165589           0.0                    1.0   \n",
       "1  Credit Card    3.5    6.067401           0.0                    1.0   \n",
       "2  Credit Card    0.0    4.111547           0.0                    1.0   \n",
       "3  Credit Card    2.5    6.411079           0.0                    1.0   \n",
       "4  Credit Card    1.0    4.769377           0.0                    1.0   \n",
       "\n",
       "   total_amount  congestion_surcharge  Airport_fee  \n",
       "0         20.64                   2.5          0.0  \n",
       "1         25.55                   2.5          0.0  \n",
       "2         17.64                   2.5          0.0  \n",
       "3         12.80                   2.5          0.0  \n",
       "4         18.00                   2.5          0.0  "
      ]
     },
     "execution_count": 14,
     "metadata": {},
     "output_type": "execute_result"
    }
   ],
   "source": [
    "train.head()"
   ]
  },
  {
   "cell_type": "code",
   "execution_count": 15,
   "id": "60babfd3",
   "metadata": {
    "execution": {
     "iopub.execute_input": "2023-12-03T18:47:29.670366Z",
     "iopub.status.busy": "2023-12-03T18:47:29.670000Z",
     "iopub.status.idle": "2023-12-03T18:47:29.873962Z",
     "shell.execute_reply": "2023-12-03T18:47:29.872939Z"
    },
    "papermill": {
     "duration": 0.230891,
     "end_time": "2023-12-03T18:47:29.876696",
     "exception": false,
     "start_time": "2023-12-03T18:47:29.645805",
     "status": "completed"
    },
    "tags": []
   },
   "outputs": [],
   "source": [
    "train['tpep_dropoff_datetime'] = pd.to_datetime(train['tpep_dropoff_datetime'])\n",
    "train['tpep_pickup_datetime'] = pd.to_datetime(train['tpep_pickup_datetime'])\n",
    "test['tpep_dropoff_datetime'] = pd.to_datetime(test['tpep_dropoff_datetime'])\n",
    "test['tpep_pickup_datetime'] = pd.to_datetime(test['tpep_pickup_datetime'])"
   ]
  },
  {
   "cell_type": "code",
   "execution_count": 16,
   "id": "e2982337",
   "metadata": {
    "execution": {
     "iopub.execute_input": "2023-12-03T18:47:29.925266Z",
     "iopub.status.busy": "2023-12-03T18:47:29.924857Z",
     "iopub.status.idle": "2023-12-03T18:47:29.936786Z",
     "shell.execute_reply": "2023-12-03T18:47:29.935826Z"
    },
    "papermill": {
     "duration": 0.039321,
     "end_time": "2023-12-03T18:47:29.939395",
     "exception": false,
     "start_time": "2023-12-03T18:47:29.900074",
     "status": "completed"
    },
    "tags": []
   },
   "outputs": [],
   "source": [
    "train['time_difference']=(train['tpep_dropoff_datetime']-train['tpep_pickup_datetime']).dt.total_seconds()\n",
    "test['time_difference']=(test['tpep_dropoff_datetime']-test['tpep_pickup_datetime']).dt.total_seconds()"
   ]
  },
  {
   "cell_type": "code",
   "execution_count": 17,
   "id": "10bd5801",
   "metadata": {
    "execution": {
     "iopub.execute_input": "2023-12-03T18:47:29.987990Z",
     "iopub.status.busy": "2023-12-03T18:47:29.987583Z",
     "iopub.status.idle": "2023-12-03T18:47:29.994379Z",
     "shell.execute_reply": "2023-12-03T18:47:29.993541Z"
    },
    "papermill": {
     "duration": 0.03355,
     "end_time": "2023-12-03T18:47:29.996546",
     "exception": false,
     "start_time": "2023-12-03T18:47:29.962996",
     "status": "completed"
    },
    "tags": []
   },
   "outputs": [],
   "source": [
    "train['time_difference']=train['time_difference']/60\n",
    "test['time_difference']=test['time_difference']/60"
   ]
  },
  {
   "cell_type": "code",
   "execution_count": 18,
   "id": "d24f7897",
   "metadata": {
    "execution": {
     "iopub.execute_input": "2023-12-03T18:47:30.045765Z",
     "iopub.status.busy": "2023-12-03T18:47:30.045368Z",
     "iopub.status.idle": "2023-12-03T18:47:30.066540Z",
     "shell.execute_reply": "2023-12-03T18:47:30.065560Z"
    },
    "papermill": {
     "duration": 0.048781,
     "end_time": "2023-12-03T18:47:30.069128",
     "exception": false,
     "start_time": "2023-12-03T18:47:30.020347",
     "status": "completed"
    },
    "tags": []
   },
   "outputs": [],
   "source": [
    "train.drop(['tpep_dropoff_datetime','tpep_pickup_datetime'],axis=1,inplace=True)\n",
    "test.drop(['tpep_dropoff_datetime','tpep_pickup_datetime'],axis=1,inplace=True)"
   ]
  },
  {
   "cell_type": "code",
   "execution_count": 19,
   "id": "f8adf39b",
   "metadata": {
    "execution": {
     "iopub.execute_input": "2023-12-03T18:47:30.117970Z",
     "iopub.status.busy": "2023-12-03T18:47:30.117517Z",
     "iopub.status.idle": "2023-12-03T18:47:30.123885Z",
     "shell.execute_reply": "2023-12-03T18:47:30.123102Z"
    },
    "papermill": {
     "duration": 0.033392,
     "end_time": "2023-12-03T18:47:30.125932",
     "exception": false,
     "start_time": "2023-12-03T18:47:30.092540",
     "status": "completed"
    },
    "tags": []
   },
   "outputs": [],
   "source": [
    "#time_difference is converted to positive by absolute\n",
    "train['time_difference']=train['time_difference'].abs()\n",
    "test['time_difference']=test['time_difference'].abs()"
   ]
  },
  {
   "cell_type": "code",
   "execution_count": 20,
   "id": "5e673051",
   "metadata": {
    "execution": {
     "iopub.execute_input": "2023-12-03T18:47:30.174130Z",
     "iopub.status.busy": "2023-12-03T18:47:30.173527Z",
     "iopub.status.idle": "2023-12-03T18:47:33.663208Z",
     "shell.execute_reply": "2023-12-03T18:47:33.662194Z"
    },
    "papermill": {
     "duration": 3.516571,
     "end_time": "2023-12-03T18:47:33.665763",
     "exception": false,
     "start_time": "2023-12-03T18:47:30.149192",
     "status": "completed"
    },
    "tags": []
   },
   "outputs": [
    {
     "data": {
      "image/png": "[encoded data removed]",
      "text/plain": [
       "<Figure size 1200x1000 with 3 Axes>"
      ]
     },
     "metadata": {},
     "output_type": "display_data"
    }
   ],
   "source": [
    "#distribution curve for tip_amount,trip_distance,time_difference\n",
    "plt.figure(figsize=(12, 10))\n",
    "plt.subplot(2, 2, 1)\n",
    "sns.distplot(train['tip_amount'])\n",
    "plt.title('Distribution of tip_amount')\n",
    "\n",
    "plt.subplot(2, 2, 2)\n",
    "sns.distplot(train['trip_distance'])\n",
    "plt.title('Distribution of trip_distance')\n",
    "\n",
    "plt.subplot(2, 2, 3)\n",
    "sns.distplot(train['time_difference'])\n",
    "plt.title('Distribution of time_difference')\n",
    "\n",
    "plt.show()"
   ]
  },
  {
   "cell_type": "markdown",
   "id": "fc726ae1",
   "metadata": {
    "papermill": {
     "duration": 0.0238,
     "end_time": "2023-12-03T18:47:33.714000",
     "exception": false,
     "start_time": "2023-12-03T18:47:33.690200",
     "status": "completed"
    },
    "tags": []
   },
   "source": [
    "* columns 'tip_amount','trip_distance','time_difference' are **right skewed** so to convert this columns into normal distribution curve log transformation is applied.\n",
    "* Above 3 columns have high density at 0."
   ]
  },
  {
   "cell_type": "code",
   "execution_count": 21,
   "id": "f1b16021",
   "metadata": {
    "execution": {
     "iopub.execute_input": "2023-12-03T18:47:33.766046Z",
     "iopub.status.busy": "2023-12-03T18:47:33.765363Z",
     "iopub.status.idle": "2023-12-03T18:47:33.778927Z",
     "shell.execute_reply": "2023-12-03T18:47:33.778083Z"
    },
    "papermill": {
     "duration": 0.042316,
     "end_time": "2023-12-03T18:47:33.781298",
     "exception": false,
     "start_time": "2023-12-03T18:47:33.738982",
     "status": "completed"
    },
    "tags": []
   },
   "outputs": [],
   "source": [
    "#log transformation applied to tip_amount,trip_distance,time_difference(train data)\n",
    "train['tip_amount']=np.log(train['tip_amount']+1)\n",
    "train['trip_distance']=np.log(train['trip_distance']+1)\n",
    "train['time_difference']=np.log(train['time_difference']+1)"
   ]
  },
  {
   "cell_type": "code",
   "execution_count": 22,
   "id": "79e70a9f",
   "metadata": {
    "execution": {
     "iopub.execute_input": "2023-12-03T18:47:33.832101Z",
     "iopub.status.busy": "2023-12-03T18:47:33.831406Z",
     "iopub.status.idle": "2023-12-03T18:47:33.840431Z",
     "shell.execute_reply": "2023-12-03T18:47:33.839672Z"
    },
    "papermill": {
     "duration": 0.036655,
     "end_time": "2023-12-03T18:47:33.842511",
     "exception": false,
     "start_time": "2023-12-03T18:47:33.805856",
     "status": "completed"
    },
    "tags": []
   },
   "outputs": [],
   "source": [
    "#log transformation applied to tip_amount,trip_distance,time_difference(test data)\n",
    "test['tip_amount']=np.log(test['tip_amount']+1)\n",
    "test['trip_distance']=np.log(test['trip_distance']+1)\n",
    "test['time_difference']=np.log(test['time_difference']+1)\n"
   ]
  },
  {
   "cell_type": "code",
   "execution_count": 23,
   "id": "266fa21b",
   "metadata": {
    "execution": {
     "iopub.execute_input": "2023-12-03T18:47:33.893136Z",
     "iopub.status.busy": "2023-12-03T18:47:33.892737Z",
     "iopub.status.idle": "2023-12-03T18:47:37.429190Z",
     "shell.execute_reply": "2023-12-03T18:47:37.428343Z"
    },
    "papermill": {
     "duration": 3.565124,
     "end_time": "2023-12-03T18:47:37.431828",
     "exception": false,
     "start_time": "2023-12-03T18:47:33.866704",
     "status": "completed"
    },
    "tags": []
   },
   "outputs": [
    {
     "data": {
      "image/png": "[encoded data removed]",
      "text/plain": [
       "<Figure size 1200x1000 with 3 Axes>"
      ]
     },
     "metadata": {},
     "output_type": "display_data"
    }
   ],
   "source": [
    "#ploting distribution curve after log transformation\n",
    "plt.figure(figsize=(12, 10))\n",
    "plt.subplot(2, 2, 1)\n",
    "sns.distplot(train['tip_amount'])\n",
    "plt.title('Distribution of tip_amount')\n",
    "\n",
    "plt.subplot(2, 2, 2)\n",
    "sns.distplot(train['trip_distance'])\n",
    "plt.title('Distribution of trip_distance')\n",
    "\n",
    "plt.subplot(2, 2, 3)\n",
    "sns.distplot(train['time_difference'])\n",
    "plt.title('Distribution of time_difference')\n",
    "\n",
    "plt.show()"
   ]
  },
  {
   "cell_type": "markdown",
   "id": "0b93f464",
   "metadata": {
    "papermill": {
     "duration": 0.025252,
     "end_time": "2023-12-03T18:47:37.482607",
     "exception": false,
     "start_time": "2023-12-03T18:47:37.457355",
     "status": "completed"
    },
    "tags": []
   },
   "source": [
    "* After applying log transformation **tip_amount**, **time_difference** are changing towards normal distribution, but **trip_distance** is not changing that much."
   ]
  },
  {
   "cell_type": "code",
   "execution_count": 24,
   "id": "885cf02a",
   "metadata": {
    "execution": {
     "iopub.execute_input": "2023-12-03T18:47:37.535862Z",
     "iopub.status.busy": "2023-12-03T18:47:37.535101Z",
     "iopub.status.idle": "2023-12-03T18:47:38.670220Z",
     "shell.execute_reply": "2023-12-03T18:47:38.669125Z"
    },
    "papermill": {
     "duration": 1.164709,
     "end_time": "2023-12-03T18:47:38.672986",
     "exception": false,
     "start_time": "2023-12-03T18:47:37.508277",
     "status": "completed"
    },
    "tags": []
   },
   "outputs": [
    {
     "data": {
      "image/png": "[encoded data removed]",
      "text/plain": [
       "<Figure size 1500x1000 with 2 Axes>"
      ]
     },
     "metadata": {},
     "output_type": "display_data"
    }
   ],
   "source": [
    "temp=train[['VendorID', 'passenger_count', 'trip_distance', 'RatecodeID','PULocationID', 'DOLocationID', 'extra', 'tip_amount', 'tolls_amount', 'improvement_surcharge',\n",
    "       'total_amount', 'congestion_surcharge', 'Airport_fee',\n",
    "       'time_difference']].copy()\n",
    "c=temp.corr()\n",
    "plt.figure(figsize=(15,10))\n",
    "sns.heatmap(c,annot=True)\n",
    "plt.show()"
   ]
  },
  {
   "cell_type": "markdown",
   "id": "697dc274",
   "metadata": {
    "papermill": {
     "duration": 0.029096,
     "end_time": "2023-12-03T18:47:38.731155",
     "exception": false,
     "start_time": "2023-12-03T18:47:38.702059",
     "status": "completed"
    },
    "tags": []
   },
   "source": [
    "* The features 'trip_distance,' 'tolls_amount,' 'tip_amount,' and 'Airport_fee' exhibit strong positive correlations of 0.79, 0.68, 0.47, and 0.6, respectively, with the target feature '**total_amount**.'\n",
    "* improvement_surcharge, extra, time_difference features are correlated with **total_amount** of 0.22, 0.23, 0.1 respectively.\n",
    "* congestion_surcharge is negatively correlated with **total_amount** of -0.15 value."
   ]
  },
  {
   "cell_type": "markdown",
   "id": "757c39ee",
   "metadata": {
    "papermill": {
     "duration": 0.028935,
     "end_time": "2023-12-03T18:47:38.788427",
     "exception": false,
     "start_time": "2023-12-03T18:47:38.759492",
     "status": "completed"
    },
    "tags": []
   },
   "source": [
    "*****"
   ]
  },
  {
   "cell_type": "markdown",
   "id": "42114ae8",
   "metadata": {
    "papermill": {
     "duration": 0.027885,
     "end_time": "2023-12-03T18:47:38.844660",
     "exception": false,
     "start_time": "2023-12-03T18:47:38.816775",
     "status": "completed"
    },
    "tags": []
   },
   "source": [
    "# PreProcessing"
   ]
  },
  {
   "cell_type": "code",
   "execution_count": 25,
   "id": "75b8c71f",
   "metadata": {
    "execution": {
     "iopub.execute_input": "2023-12-03T18:47:38.903035Z",
     "iopub.status.busy": "2023-12-03T18:47:38.902624Z",
     "iopub.status.idle": "2023-12-03T18:47:38.907300Z",
     "shell.execute_reply": "2023-12-03T18:47:38.906154Z"
    },
    "papermill": {
     "duration": 0.036749,
     "end_time": "2023-12-03T18:47:38.909627",
     "exception": false,
     "start_time": "2023-12-03T18:47:38.872878",
     "status": "completed"
    },
    "tags": []
   },
   "outputs": [],
   "source": [
    "from sklearn.preprocessing import StandardScaler"
   ]
  },
  {
   "cell_type": "code",
   "execution_count": 26,
   "id": "3c5ff944",
   "metadata": {
    "execution": {
     "iopub.execute_input": "2023-12-03T18:47:38.968755Z",
     "iopub.status.busy": "2023-12-03T18:47:38.968040Z",
     "iopub.status.idle": "2023-12-03T18:47:38.988745Z",
     "shell.execute_reply": "2023-12-03T18:47:38.987686Z"
    },
    "papermill": {
     "duration": 0.053046,
     "end_time": "2023-12-03T18:47:38.991126",
     "exception": false,
     "start_time": "2023-12-03T18:47:38.938080",
     "status": "completed"
    },
    "tags": []
   },
   "outputs": [
    {
     "data": {
      "text/plain": [
       "VendorID                    0\n",
       "passenger_count          1779\n",
       "trip_distance               0\n",
       "RatecodeID               1779\n",
       "store_and_fwd_flag       1779\n",
       "PULocationID                0\n",
       "DOLocationID                0\n",
       "payment_type                0\n",
       "extra                       0\n",
       "tip_amount                  0\n",
       "tolls_amount                0\n",
       "improvement_surcharge       0\n",
       "congestion_surcharge     1779\n",
       "Airport_fee              1779\n",
       "time_difference             0\n",
       "dtype: int64"
      ]
     },
     "execution_count": 26,
     "metadata": {},
     "output_type": "execute_result"
    }
   ],
   "source": [
    "#null values of test dataset\n",
    "test.isnull().sum()"
   ]
  },
  {
   "cell_type": "code",
   "execution_count": 27,
   "id": "3d7b465d",
   "metadata": {
    "execution": {
     "iopub.execute_input": "2023-12-03T18:47:39.049766Z",
     "iopub.status.busy": "2023-12-03T18:47:39.049383Z",
     "iopub.status.idle": "2023-12-03T18:47:39.098157Z",
     "shell.execute_reply": "2023-12-03T18:47:39.096951Z"
    },
    "papermill": {
     "duration": 0.081061,
     "end_time": "2023-12-03T18:47:39.100848",
     "exception": false,
     "start_time": "2023-12-03T18:47:39.019787",
     "status": "completed"
    },
    "tags": []
   },
   "outputs": [
    {
     "data": {
      "text/plain": [
       "VendorID                    0\n",
       "passenger_count          6077\n",
       "trip_distance               0\n",
       "RatecodeID               6077\n",
       "store_and_fwd_flag       6077\n",
       "PULocationID                0\n",
       "DOLocationID                0\n",
       "payment_type                0\n",
       "extra                       0\n",
       "tip_amount                  0\n",
       "tolls_amount                0\n",
       "improvement_surcharge       0\n",
       "total_amount                0\n",
       "congestion_surcharge     6077\n",
       "Airport_fee              6077\n",
       "time_difference             0\n",
       "dtype: int64"
      ]
     },
     "execution_count": 27,
     "metadata": {},
     "output_type": "execute_result"
    }
   ],
   "source": [
    "#null values of train dataset\n",
    "train.isnull().sum()"
   ]
  },
  {
   "cell_type": "code",
   "execution_count": 28,
   "id": "80b3b5a9",
   "metadata": {
    "execution": {
     "iopub.execute_input": "2023-12-03T18:47:39.160654Z",
     "iopub.status.busy": "2023-12-03T18:47:39.160281Z",
     "iopub.status.idle": "2023-12-03T18:47:39.165582Z",
     "shell.execute_reply": "2023-12-03T18:47:39.164523Z"
    },
    "papermill": {
     "duration": 0.037978,
     "end_time": "2023-12-03T18:47:39.167831",
     "exception": false,
     "start_time": "2023-12-03T18:47:39.129853",
     "status": "completed"
    },
    "tags": []
   },
   "outputs": [],
   "source": [
    "cat_cols=['passenger_count','RatecodeID','store_and_fwd_flag','congestion_surcharge','Airport_fee'] #categotical columns to apply simple imputer \n",
    "encode_cols=['store_and_fwd_flag','payment_type']  # categorical columns to apply encoder"
   ]
  },
  {
   "cell_type": "code",
   "execution_count": 29,
   "id": "aacb94bb",
   "metadata": {
    "execution": {
     "iopub.execute_input": "2023-12-03T18:47:39.227686Z",
     "iopub.status.busy": "2023-12-03T18:47:39.227314Z",
     "iopub.status.idle": "2023-12-03T18:47:39.234576Z",
     "shell.execute_reply": "2023-12-03T18:47:39.233450Z"
    },
    "papermill": {
     "duration": 0.040245,
     "end_time": "2023-12-03T18:47:39.236935",
     "exception": false,
     "start_time": "2023-12-03T18:47:39.196690",
     "status": "completed"
    },
    "tags": []
   },
   "outputs": [
    {
     "data": {
      "text/plain": [
       "Index(['VendorID', 'passenger_count', 'trip_distance', 'RatecodeID',\n",
       "       'store_and_fwd_flag', 'PULocationID', 'DOLocationID', 'payment_type',\n",
       "       'extra', 'tip_amount', 'tolls_amount', 'improvement_surcharge',\n",
       "       'total_amount', 'congestion_surcharge', 'Airport_fee',\n",
       "       'time_difference'],\n",
       "      dtype='object')"
      ]
     },
     "execution_count": 29,
     "metadata": {},
     "output_type": "execute_result"
    }
   ],
   "source": [
    "train.columns"
   ]
  },
  {
   "cell_type": "code",
   "execution_count": 30,
   "id": "fe22bd55",
   "metadata": {
    "execution": {
     "iopub.execute_input": "2023-12-03T18:47:39.296784Z",
     "iopub.status.busy": "2023-12-03T18:47:39.296416Z",
     "iopub.status.idle": "2023-12-03T18:47:39.303810Z",
     "shell.execute_reply": "2023-12-03T18:47:39.302744Z"
    },
    "papermill": {
     "duration": 0.040083,
     "end_time": "2023-12-03T18:47:39.306247",
     "exception": false,
     "start_time": "2023-12-03T18:47:39.266164",
     "status": "completed"
    },
    "tags": []
   },
   "outputs": [
    {
     "data": {
      "text/plain": [
       "Index(['VendorID', 'passenger_count', 'trip_distance', 'RatecodeID',\n",
       "       'store_and_fwd_flag', 'PULocationID', 'DOLocationID', 'payment_type',\n",
       "       'extra', 'tip_amount', 'tolls_amount', 'improvement_surcharge',\n",
       "       'congestion_surcharge', 'Airport_fee', 'time_difference'],\n",
       "      dtype='object')"
      ]
     },
     "execution_count": 30,
     "metadata": {},
     "output_type": "execute_result"
    }
   ],
   "source": [
    "test.columns"
   ]
  },
  {
   "cell_type": "code",
   "execution_count": 31,
   "id": "7609f41d",
   "metadata": {
    "execution": {
     "iopub.execute_input": "2023-12-03T18:47:39.365850Z",
     "iopub.status.busy": "2023-12-03T18:47:39.365497Z",
     "iopub.status.idle": "2023-12-03T18:47:39.369868Z",
     "shell.execute_reply": "2023-12-03T18:47:39.369238Z"
    },
    "papermill": {
     "duration": 0.036582,
     "end_time": "2023-12-03T18:47:39.371875",
     "exception": false,
     "start_time": "2023-12-03T18:47:39.335293",
     "status": "completed"
    },
    "tags": []
   },
   "outputs": [],
   "source": [
    "target_column = train.pop('total_amount')\n",
    "# train['total_amount'] = target_column"
   ]
  },
  {
   "cell_type": "code",
   "execution_count": 32,
   "id": "bfad56cf",
   "metadata": {
    "execution": {
     "iopub.execute_input": "2023-12-03T18:47:39.431358Z",
     "iopub.status.busy": "2023-12-03T18:47:39.430941Z",
     "iopub.status.idle": "2023-12-03T18:47:39.436287Z",
     "shell.execute_reply": "2023-12-03T18:47:39.435183Z"
    },
    "papermill": {
     "duration": 0.037466,
     "end_time": "2023-12-03T18:47:39.438509",
     "exception": false,
     "start_time": "2023-12-03T18:47:39.401043",
     "status": "completed"
    },
    "tags": []
   },
   "outputs": [],
   "source": [
    "target_column=target_column.to_frame()"
   ]
  },
  {
   "cell_type": "code",
   "execution_count": 33,
   "id": "a2e3c7f4",
   "metadata": {
    "execution": {
     "iopub.execute_input": "2023-12-03T18:47:39.497830Z",
     "iopub.status.busy": "2023-12-03T18:47:39.497429Z",
     "iopub.status.idle": "2023-12-03T18:47:39.520986Z",
     "shell.execute_reply": "2023-12-03T18:47:39.519900Z"
    },
    "papermill": {
     "duration": 0.056106,
     "end_time": "2023-12-03T18:47:39.523322",
     "exception": false,
     "start_time": "2023-12-03T18:47:39.467216",
     "status": "completed"
    },
    "tags": []
   },
   "outputs": [
    {
     "data": {
      "text/html": [
       "<div>\n",
       "<style scoped>\n",
       "    .dataframe tbody tr th:only-of-type {\n",
       "        vertical-align: middle;\n",
       "    }\n",
       "\n",
       "    .dataframe tbody tr th {\n",
       "        vertical-align: top;\n",
       "    }\n",
       "\n",
       "    .dataframe thead th {\n",
       "        text-align: right;\n",
       "    }\n",
       "</style>\n",
       "<table border=\"1\" class=\"dataframe\">\n",
       "  <thead>\n",
       "    <tr style=\"text-align: right;\">\n",
       "      <th></th>\n",
       "      <th>VendorID</th>\n",
       "      <th>passenger_count</th>\n",
       "      <th>trip_distance</th>\n",
       "      <th>RatecodeID</th>\n",
       "      <th>store_and_fwd_flag</th>\n",
       "      <th>PULocationID</th>\n",
       "      <th>DOLocationID</th>\n",
       "      <th>payment_type</th>\n",
       "      <th>extra</th>\n",
       "      <th>tip_amount</th>\n",
       "      <th>tolls_amount</th>\n",
       "      <th>improvement_surcharge</th>\n",
       "      <th>congestion_surcharge</th>\n",
       "      <th>Airport_fee</th>\n",
       "      <th>time_difference</th>\n",
       "    </tr>\n",
       "  </thead>\n",
       "  <tbody>\n",
       "    <tr>\n",
       "      <th>0</th>\n",
       "      <td>1</td>\n",
       "      <td>1.0</td>\n",
       "      <td>1.144223</td>\n",
       "      <td>1.0</td>\n",
       "      <td>N</td>\n",
       "      <td>120</td>\n",
       "      <td>9</td>\n",
       "      <td>Credit Card</td>\n",
       "      <td>2.5</td>\n",
       "      <td>2.099929</td>\n",
       "      <td>0.0</td>\n",
       "      <td>1.0</td>\n",
       "      <td>2.5</td>\n",
       "      <td>0.0</td>\n",
       "      <td>3.841601</td>\n",
       "    </tr>\n",
       "    <tr>\n",
       "      <th>1</th>\n",
       "      <td>0</td>\n",
       "      <td>1.0</td>\n",
       "      <td>1.308333</td>\n",
       "      <td>1.0</td>\n",
       "      <td>N</td>\n",
       "      <td>15</td>\n",
       "      <td>215</td>\n",
       "      <td>Credit Card</td>\n",
       "      <td>3.5</td>\n",
       "      <td>1.955493</td>\n",
       "      <td>0.0</td>\n",
       "      <td>1.0</td>\n",
       "      <td>2.5</td>\n",
       "      <td>0.0</td>\n",
       "      <td>4.165631</td>\n",
       "    </tr>\n",
       "    <tr>\n",
       "      <th>2</th>\n",
       "      <td>1</td>\n",
       "      <td>1.0</td>\n",
       "      <td>0.765468</td>\n",
       "      <td>1.0</td>\n",
       "      <td>N</td>\n",
       "      <td>167</td>\n",
       "      <td>223</td>\n",
       "      <td>Credit Card</td>\n",
       "      <td>0.0</td>\n",
       "      <td>1.631502</td>\n",
       "      <td>0.0</td>\n",
       "      <td>1.0</td>\n",
       "      <td>2.5</td>\n",
       "      <td>0.0</td>\n",
       "      <td>4.000949</td>\n",
       "    </tr>\n",
       "    <tr>\n",
       "      <th>3</th>\n",
       "      <td>0</td>\n",
       "      <td>1.0</td>\n",
       "      <td>0.336472</td>\n",
       "      <td>1.0</td>\n",
       "      <td>N</td>\n",
       "      <td>128</td>\n",
       "      <td>239</td>\n",
       "      <td>Credit Card</td>\n",
       "      <td>2.5</td>\n",
       "      <td>2.002976</td>\n",
       "      <td>0.0</td>\n",
       "      <td>1.0</td>\n",
       "      <td>2.5</td>\n",
       "      <td>0.0</td>\n",
       "      <td>4.058142</td>\n",
       "    </tr>\n",
       "    <tr>\n",
       "      <th>4</th>\n",
       "      <td>1</td>\n",
       "      <td>3.0</td>\n",
       "      <td>0.741937</td>\n",
       "      <td>1.0</td>\n",
       "      <td>N</td>\n",
       "      <td>203</td>\n",
       "      <td>52</td>\n",
       "      <td>Credit Card</td>\n",
       "      <td>1.0</td>\n",
       "      <td>1.752564</td>\n",
       "      <td>0.0</td>\n",
       "      <td>1.0</td>\n",
       "      <td>2.5</td>\n",
       "      <td>0.0</td>\n",
       "      <td>2.987364</td>\n",
       "    </tr>\n",
       "  </tbody>\n",
       "</table>\n",
       "</div>"
      ],
      "text/plain": [
       "   VendorID  passenger_count  trip_distance  RatecodeID store_and_fwd_flag  \\\n",
       "0         1              1.0       1.144223         1.0                  N   \n",
       "1         0              1.0       1.308333         1.0                  N   \n",
       "2         1              1.0       0.765468         1.0                  N   \n",
       "3         0              1.0       0.336472         1.0                  N   \n",
       "4         1              3.0       0.741937         1.0                  N   \n",
       "\n",
       "   PULocationID  DOLocationID payment_type  extra  tip_amount  tolls_amount  \\\n",
       "0           120             9  Credit Card    2.5    2.099929           0.0   \n",
       "1            15           215  Credit Card    3.5    1.955493           0.0   \n",
       "2           167           223  Credit Card    0.0    1.631502           0.0   \n",
       "3           128           239  Credit Card    2.5    2.002976           0.0   \n",
       "4           203            52  Credit Card    1.0    1.752564           0.0   \n",
       "\n",
       "   improvement_surcharge  congestion_surcharge  Airport_fee  time_difference  \n",
       "0                    1.0                   2.5          0.0         3.841601  \n",
       "1                    1.0                   2.5          0.0         4.165631  \n",
       "2                    1.0                   2.5          0.0         4.000949  \n",
       "3                    1.0                   2.5          0.0         4.058142  \n",
       "4                    1.0                   2.5          0.0         2.987364  "
      ]
     },
     "execution_count": 33,
     "metadata": {},
     "output_type": "execute_result"
    }
   ],
   "source": [
    "train.head()"
   ]
  },
  {
   "cell_type": "code",
   "execution_count": 34,
   "id": "9c6d81d1",
   "metadata": {
    "execution": {
     "iopub.execute_input": "2023-12-03T18:47:39.584396Z",
     "iopub.status.busy": "2023-12-03T18:47:39.583998Z",
     "iopub.status.idle": "2023-12-03T18:47:41.051972Z",
     "shell.execute_reply": "2023-12-03T18:47:41.050715Z"
    },
    "papermill": {
     "duration": 1.502029,
     "end_time": "2023-12-03T18:47:41.055023",
     "exception": false,
     "start_time": "2023-12-03T18:47:39.552994",
     "status": "completed"
    },
    "tags": []
   },
   "outputs": [
    {
     "name": "stdout",
     "output_type": "stream",
     "text": [
      "[Pipeline] ........... (step 1 of 3) Processing imputer, total=   0.6s\n",
      "[Pipeline] ........... (step 2 of 3) Processing encoder, total=   0.3s\n",
      "[Pipeline] ............ (step 3 of 3) Processing scaler, total=   0.3s\n",
      "transformation of train and test dataset is done.\n"
     ]
    }
   ],
   "source": [
    "# pipeline for simple imputer\n",
    "imputer_pipeline = Pipeline([\n",
    "    ('imputer', ColumnTransformer(transformers=[\n",
    "        ('cat', SimpleImputer(strategy='most_frequent'), cat_cols)\n",
    "    ], remainder='passthrough'))\n",
    "])\n",
    "\n",
    "# pipeline for encoding \n",
    "encoder_pipeline = Pipeline([\n",
    "    ('encoder', ColumnTransformer(transformers=[\n",
    "        ('ohe', OneHotEncoder(), [2,9])\n",
    "    ], remainder='passthrough'))\n",
    "])\n",
    "\n",
    "scaling_pipeline=Pipeline([\n",
    "    ('numeric',ColumnTransformer(transformers=[\n",
    "        ('num',StandardScaler(),[12,15,16,17,19])\n",
    "    ],remainder='passthrough'))\n",
    "])\n",
    "\n",
    "# Combined the two pipelines into one using a final pipeline\n",
    "final_pipeline = Pipeline([\n",
    "    ('imputer', imputer_pipeline),\n",
    "    ('encoder', encoder_pipeline),\n",
    "    ('scaler',scaling_pipeline)\n",
    "],verbose=True)\n",
    "\n",
    "# Applied the pipeline to the train and test datasets\n",
    "train_df = final_pipeline.fit_transform(train)\n",
    "test_df= final_pipeline.transform(test)\n",
    "print(\"transformation of train and test dataset is done.\")"
   ]
  },
  {
   "cell_type": "code",
   "execution_count": 35,
   "id": "a7f87e30",
   "metadata": {
    "execution": {
     "iopub.execute_input": "2023-12-03T18:47:41.118478Z",
     "iopub.status.busy": "2023-12-03T18:47:41.117237Z",
     "iopub.status.idle": "2023-12-03T18:47:41.125909Z",
     "shell.execute_reply": "2023-12-03T18:47:41.124685Z"
    },
    "papermill": {
     "duration": 0.043233,
     "end_time": "2023-12-03T18:47:41.128257",
     "exception": false,
     "start_time": "2023-12-03T18:47:41.085024",
     "status": "completed"
    },
    "tags": []
   },
   "outputs": [
    {
     "name": "stdout",
     "output_type": "stream",
     "text": [
      "Most frequent values of imputer pipeline : [1.0 1.0 'N' 2.5 0.0]\n",
      "Mean of standard scaler : [1.22695843 1.93214349 1.80083334 0.64681629 3.45362683]\n",
      "Standard deviation of standard scaler : [0.71661071 1.94849177 0.58179073 2.32826717 0.9743237 ]\n"
     ]
    }
   ],
   "source": [
    "print('Most frequent values of imputer pipeline :',imputer_pipeline.named_steps['imputer'].named_transformers_['cat'].statistics_)\n",
    "print('Mean of standard scaler :',scaling_pipeline.named_steps['numeric'].named_transformers_['num'].mean_)\n",
    "print('Standard deviation of standard scaler :',scaling_pipeline.named_steps['numeric'].named_transformers_['num'].scale_)"
   ]
  },
  {
   "cell_type": "code",
   "execution_count": 36,
   "id": "2d9927c5",
   "metadata": {
    "execution": {
     "iopub.execute_input": "2023-12-03T18:47:41.191677Z",
     "iopub.status.busy": "2023-12-03T18:47:41.190421Z",
     "iopub.status.idle": "2023-12-03T18:47:41.198296Z",
     "shell.execute_reply": "2023-12-03T18:47:41.197249Z"
    },
    "papermill": {
     "duration": 0.042144,
     "end_time": "2023-12-03T18:47:41.200600",
     "exception": false,
     "start_time": "2023-12-03T18:47:41.158456",
     "status": "completed"
    },
    "tags": []
   },
   "outputs": [
    {
     "data": {
      "text/plain": [
       "array([-0.11545407350626725, 0.2914338782563562, 0.5140945974827965,\n",
       "       -0.27781016463900604, 0.39819796068730257, 1.0, 0.0, 0.0, 1.0, 0.0,\n",
       "       0.0, 0.0, 1.0, 1.0, 2.5, 0.0, 1, 120, 9, 1.0], dtype=object)"
      ]
     },
     "execution_count": 36,
     "metadata": {},
     "output_type": "execute_result"
    }
   ],
   "source": [
    "train_df[0]"
   ]
  },
  {
   "cell_type": "code",
   "execution_count": 37,
   "id": "e1b1256a",
   "metadata": {
    "execution": {
     "iopub.execute_input": "2023-12-03T18:47:41.263337Z",
     "iopub.status.busy": "2023-12-03T18:47:41.262316Z",
     "iopub.status.idle": "2023-12-03T18:47:41.269816Z",
     "shell.execute_reply": "2023-12-03T18:47:41.268690Z"
    },
    "papermill": {
     "duration": 0.041213,
     "end_time": "2023-12-03T18:47:41.272305",
     "exception": false,
     "start_time": "2023-12-03T18:47:41.231092",
     "status": "completed"
    },
    "tags": []
   },
   "outputs": [
    {
     "data": {
      "text/plain": [
       "array([0.7764784822773976, -0.4783923126686701, 0.2658847501677894,\n",
       "       -0.27781016463900604, -1.892788731114725, 1.0, 0.0, 0.0, 1.0, 0.0,\n",
       "       0.0, 0.0, 1.0, 1.0, 2.5, 0.0, 1, 20, 3, 1.0], dtype=object)"
      ]
     },
     "execution_count": 37,
     "metadata": {},
     "output_type": "execute_result"
    }
   ],
   "source": [
    "test_df[0]"
   ]
  },
  {
   "cell_type": "code",
   "execution_count": 38,
   "id": "3fadaf4a",
   "metadata": {
    "execution": {
     "iopub.execute_input": "2023-12-03T18:47:41.335311Z",
     "iopub.status.busy": "2023-12-03T18:47:41.334920Z",
     "iopub.status.idle": "2023-12-03T18:47:41.341256Z",
     "shell.execute_reply": "2023-12-03T18:47:41.340334Z"
    },
    "papermill": {
     "duration": 0.040533,
     "end_time": "2023-12-03T18:47:41.343597",
     "exception": false,
     "start_time": "2023-12-03T18:47:41.303064",
     "status": "completed"
    },
    "tags": []
   },
   "outputs": [],
   "source": [
    "# final train dataset\n",
    "columns=['trip_distance','extra','tip_amount','tolls_amount', 'time_difference','store_fwd_N','store_fwd_Y','c1','c2','c3','c4','c5','passenger_count', 'RatecodeID',\n",
    "       'congestion_surcharge', 'Airport_fee', 'VendorID', 'PULocationID', 'DOLocationID', 'improvement_surcharge']\n",
    "transform_df=pd.DataFrame(train_df,columns=columns)\n"
   ]
  },
  {
   "cell_type": "code",
   "execution_count": 39,
   "id": "c6d66bc5",
   "metadata": {
    "execution": {
     "iopub.execute_input": "2023-12-03T18:47:41.406673Z",
     "iopub.status.busy": "2023-12-03T18:47:41.405909Z",
     "iopub.status.idle": "2023-12-03T18:47:41.412248Z",
     "shell.execute_reply": "2023-12-03T18:47:41.411173Z"
    },
    "papermill": {
     "duration": 0.040715,
     "end_time": "2023-12-03T18:47:41.414515",
     "exception": false,
     "start_time": "2023-12-03T18:47:41.373800",
     "status": "completed"
    },
    "tags": []
   },
   "outputs": [],
   "source": [
    "# final test dataset\n",
    "test_columns=['trip_distance','extra','tip_amount','tolls_amount', 'time_difference','store_fwd_N','store_fwd_Y','c1','c2','c3','c4','c5','passenger_count', 'RatecodeID',\n",
    "       'congestion_surcharge', 'Airport_fee', 'VendorID', 'PULocationID', 'DOLocationID', 'improvement_surcharge']\n",
    "transform_test=pd.DataFrame(test_df,columns=test_columns)"
   ]
  },
  {
   "cell_type": "code",
   "execution_count": 40,
   "id": "df905ad0",
   "metadata": {
    "execution": {
     "iopub.execute_input": "2023-12-03T18:47:41.477263Z",
     "iopub.status.busy": "2023-12-03T18:47:41.476553Z",
     "iopub.status.idle": "2023-12-03T18:47:41.496398Z",
     "shell.execute_reply": "2023-12-03T18:47:41.495582Z"
    },
    "papermill": {
     "duration": 0.053569,
     "end_time": "2023-12-03T18:47:41.498491",
     "exception": false,
     "start_time": "2023-12-03T18:47:41.444922",
     "status": "completed"
    },
    "tags": []
   },
   "outputs": [
    {
     "data": {
      "text/html": [
       "<div>\n",
       "<style scoped>\n",
       "    .dataframe tbody tr th:only-of-type {\n",
       "        vertical-align: middle;\n",
       "    }\n",
       "\n",
       "    .dataframe tbody tr th {\n",
       "        vertical-align: top;\n",
       "    }\n",
       "\n",
       "    .dataframe thead th {\n",
       "        text-align: right;\n",
       "    }\n",
       "</style>\n",
       "<table border=\"1\" class=\"dataframe\">\n",
       "  <thead>\n",
       "    <tr style=\"text-align: right;\">\n",
       "      <th></th>\n",
       "      <th>trip_distance</th>\n",
       "      <th>extra</th>\n",
       "      <th>tip_amount</th>\n",
       "      <th>tolls_amount</th>\n",
       "      <th>time_difference</th>\n",
       "      <th>store_fwd_N</th>\n",
       "      <th>store_fwd_Y</th>\n",
       "      <th>c1</th>\n",
       "      <th>c2</th>\n",
       "      <th>c3</th>\n",
       "      <th>c4</th>\n",
       "      <th>c5</th>\n",
       "      <th>passenger_count</th>\n",
       "      <th>RatecodeID</th>\n",
       "      <th>congestion_surcharge</th>\n",
       "      <th>Airport_fee</th>\n",
       "      <th>VendorID</th>\n",
       "      <th>PULocationID</th>\n",
       "      <th>DOLocationID</th>\n",
       "      <th>improvement_surcharge</th>\n",
       "    </tr>\n",
       "  </thead>\n",
       "  <tbody>\n",
       "    <tr>\n",
       "      <th>0</th>\n",
       "      <td>-0.115454</td>\n",
       "      <td>0.291434</td>\n",
       "      <td>0.514095</td>\n",
       "      <td>-0.27781</td>\n",
       "      <td>0.398198</td>\n",
       "      <td>1.0</td>\n",
       "      <td>0.0</td>\n",
       "      <td>0.0</td>\n",
       "      <td>1.0</td>\n",
       "      <td>0.0</td>\n",
       "      <td>0.0</td>\n",
       "      <td>0.0</td>\n",
       "      <td>1.0</td>\n",
       "      <td>1.0</td>\n",
       "      <td>2.5</td>\n",
       "      <td>0.0</td>\n",
       "      <td>1</td>\n",
       "      <td>120</td>\n",
       "      <td>9</td>\n",
       "      <td>1.0</td>\n",
       "    </tr>\n",
       "    <tr>\n",
       "      <th>1</th>\n",
       "      <td>0.113555</td>\n",
       "      <td>0.804651</td>\n",
       "      <td>0.265833</td>\n",
       "      <td>-0.27781</td>\n",
       "      <td>0.730768</td>\n",
       "      <td>1.0</td>\n",
       "      <td>0.0</td>\n",
       "      <td>0.0</td>\n",
       "      <td>1.0</td>\n",
       "      <td>0.0</td>\n",
       "      <td>0.0</td>\n",
       "      <td>0.0</td>\n",
       "      <td>1.0</td>\n",
       "      <td>1.0</td>\n",
       "      <td>2.5</td>\n",
       "      <td>0.0</td>\n",
       "      <td>0</td>\n",
       "      <td>15</td>\n",
       "      <td>215</td>\n",
       "      <td>1.0</td>\n",
       "    </tr>\n",
       "    <tr>\n",
       "      <th>2</th>\n",
       "      <td>-0.643991</td>\n",
       "      <td>-0.99161</td>\n",
       "      <td>-0.291052</td>\n",
       "      <td>-0.27781</td>\n",
       "      <td>0.561746</td>\n",
       "      <td>1.0</td>\n",
       "      <td>0.0</td>\n",
       "      <td>0.0</td>\n",
       "      <td>1.0</td>\n",
       "      <td>0.0</td>\n",
       "      <td>0.0</td>\n",
       "      <td>0.0</td>\n",
       "      <td>1.0</td>\n",
       "      <td>1.0</td>\n",
       "      <td>2.5</td>\n",
       "      <td>0.0</td>\n",
       "      <td>1</td>\n",
       "      <td>167</td>\n",
       "      <td>223</td>\n",
       "      <td>1.0</td>\n",
       "    </tr>\n",
       "    <tr>\n",
       "      <th>3</th>\n",
       "      <td>-1.242636</td>\n",
       "      <td>0.291434</td>\n",
       "      <td>0.347449</td>\n",
       "      <td>-0.27781</td>\n",
       "      <td>0.620445</td>\n",
       "      <td>1.0</td>\n",
       "      <td>0.0</td>\n",
       "      <td>0.0</td>\n",
       "      <td>1.0</td>\n",
       "      <td>0.0</td>\n",
       "      <td>0.0</td>\n",
       "      <td>0.0</td>\n",
       "      <td>1.0</td>\n",
       "      <td>1.0</td>\n",
       "      <td>2.5</td>\n",
       "      <td>0.0</td>\n",
       "      <td>0</td>\n",
       "      <td>128</td>\n",
       "      <td>239</td>\n",
       "      <td>1.0</td>\n",
       "    </tr>\n",
       "    <tr>\n",
       "      <th>4</th>\n",
       "      <td>-0.676826</td>\n",
       "      <td>-0.478392</td>\n",
       "      <td>-0.082967</td>\n",
       "      <td>-0.27781</td>\n",
       "      <td>-0.47855</td>\n",
       "      <td>1.0</td>\n",
       "      <td>0.0</td>\n",
       "      <td>0.0</td>\n",
       "      <td>1.0</td>\n",
       "      <td>0.0</td>\n",
       "      <td>0.0</td>\n",
       "      <td>0.0</td>\n",
       "      <td>3.0</td>\n",
       "      <td>1.0</td>\n",
       "      <td>2.5</td>\n",
       "      <td>0.0</td>\n",
       "      <td>1</td>\n",
       "      <td>203</td>\n",
       "      <td>52</td>\n",
       "      <td>1.0</td>\n",
       "    </tr>\n",
       "  </tbody>\n",
       "</table>\n",
       "</div>"
      ],
      "text/plain": [
       "  trip_distance     extra tip_amount tolls_amount time_difference store_fwd_N  \\\n",
       "0     -0.115454  0.291434   0.514095     -0.27781        0.398198         1.0   \n",
       "1      0.113555  0.804651   0.265833     -0.27781        0.730768         1.0   \n",
       "2     -0.643991  -0.99161  -0.291052     -0.27781        0.561746         1.0   \n",
       "3     -1.242636  0.291434   0.347449     -0.27781        0.620445         1.0   \n",
       "4     -0.676826 -0.478392  -0.082967     -0.27781        -0.47855         1.0   \n",
       "\n",
       "  store_fwd_Y   c1   c2   c3   c4   c5 passenger_count RatecodeID  \\\n",
       "0         0.0  0.0  1.0  0.0  0.0  0.0             1.0        1.0   \n",
       "1         0.0  0.0  1.0  0.0  0.0  0.0             1.0        1.0   \n",
       "2         0.0  0.0  1.0  0.0  0.0  0.0             1.0        1.0   \n",
       "3         0.0  0.0  1.0  0.0  0.0  0.0             1.0        1.0   \n",
       "4         0.0  0.0  1.0  0.0  0.0  0.0             3.0        1.0   \n",
       "\n",
       "  congestion_surcharge Airport_fee VendorID PULocationID DOLocationID  \\\n",
       "0                  2.5         0.0        1          120            9   \n",
       "1                  2.5         0.0        0           15          215   \n",
       "2                  2.5         0.0        1          167          223   \n",
       "3                  2.5         0.0        0          128          239   \n",
       "4                  2.5         0.0        1          203           52   \n",
       "\n",
       "  improvement_surcharge  \n",
       "0                   1.0  \n",
       "1                   1.0  \n",
       "2                   1.0  \n",
       "3                   1.0  \n",
       "4                   1.0  "
      ]
     },
     "execution_count": 40,
     "metadata": {},
     "output_type": "execute_result"
    }
   ],
   "source": [
    "transform_df.head()"
   ]
  },
  {
   "cell_type": "code",
   "execution_count": 41,
   "id": "c975edf2",
   "metadata": {
    "execution": {
     "iopub.execute_input": "2023-12-03T18:47:41.562214Z",
     "iopub.status.busy": "2023-12-03T18:47:41.561505Z",
     "iopub.status.idle": "2023-12-03T18:47:41.582575Z",
     "shell.execute_reply": "2023-12-03T18:47:41.581533Z"
    },
    "papermill": {
     "duration": 0.055782,
     "end_time": "2023-12-03T18:47:41.584817",
     "exception": false,
     "start_time": "2023-12-03T18:47:41.529035",
     "status": "completed"
    },
    "tags": []
   },
   "outputs": [
    {
     "data": {
      "text/html": [
       "<div>\n",
       "<style scoped>\n",
       "    .dataframe tbody tr th:only-of-type {\n",
       "        vertical-align: middle;\n",
       "    }\n",
       "\n",
       "    .dataframe tbody tr th {\n",
       "        vertical-align: top;\n",
       "    }\n",
       "\n",
       "    .dataframe thead th {\n",
       "        text-align: right;\n",
       "    }\n",
       "</style>\n",
       "<table border=\"1\" class=\"dataframe\">\n",
       "  <thead>\n",
       "    <tr style=\"text-align: right;\">\n",
       "      <th></th>\n",
       "      <th>trip_distance</th>\n",
       "      <th>extra</th>\n",
       "      <th>tip_amount</th>\n",
       "      <th>tolls_amount</th>\n",
       "      <th>time_difference</th>\n",
       "      <th>store_fwd_N</th>\n",
       "      <th>store_fwd_Y</th>\n",
       "      <th>c1</th>\n",
       "      <th>c2</th>\n",
       "      <th>c3</th>\n",
       "      <th>c4</th>\n",
       "      <th>c5</th>\n",
       "      <th>passenger_count</th>\n",
       "      <th>RatecodeID</th>\n",
       "      <th>congestion_surcharge</th>\n",
       "      <th>Airport_fee</th>\n",
       "      <th>VendorID</th>\n",
       "      <th>PULocationID</th>\n",
       "      <th>DOLocationID</th>\n",
       "      <th>improvement_surcharge</th>\n",
       "    </tr>\n",
       "  </thead>\n",
       "  <tbody>\n",
       "    <tr>\n",
       "      <th>0</th>\n",
       "      <td>0.776478</td>\n",
       "      <td>-0.478392</td>\n",
       "      <td>0.265885</td>\n",
       "      <td>-0.27781</td>\n",
       "      <td>-1.892789</td>\n",
       "      <td>1.0</td>\n",
       "      <td>0.0</td>\n",
       "      <td>0.0</td>\n",
       "      <td>1.0</td>\n",
       "      <td>0.0</td>\n",
       "      <td>0.0</td>\n",
       "      <td>0.0</td>\n",
       "      <td>1.0</td>\n",
       "      <td>1.0</td>\n",
       "      <td>2.5</td>\n",
       "      <td>0.0</td>\n",
       "      <td>1</td>\n",
       "      <td>20</td>\n",
       "      <td>3</td>\n",
       "      <td>1.0</td>\n",
       "    </tr>\n",
       "    <tr>\n",
       "      <th>1</th>\n",
       "      <td>-0.133345</td>\n",
       "      <td>0.291434</td>\n",
       "      <td>0.295698</td>\n",
       "      <td>-0.27781</td>\n",
       "      <td>-1.23402</td>\n",
       "      <td>1.0</td>\n",
       "      <td>0.0</td>\n",
       "      <td>0.0</td>\n",
       "      <td>1.0</td>\n",
       "      <td>0.0</td>\n",
       "      <td>0.0</td>\n",
       "      <td>0.0</td>\n",
       "      <td>1.0</td>\n",
       "      <td>1.0</td>\n",
       "      <td>2.5</td>\n",
       "      <td>0.0</td>\n",
       "      <td>1</td>\n",
       "      <td>9</td>\n",
       "      <td>81</td>\n",
       "      <td>1.0</td>\n",
       "    </tr>\n",
       "    <tr>\n",
       "      <th>2</th>\n",
       "      <td>-0.780241</td>\n",
       "      <td>0.291434</td>\n",
       "      <td>-0.33453</td>\n",
       "      <td>-0.27781</td>\n",
       "      <td>0.782031</td>\n",
       "      <td>1.0</td>\n",
       "      <td>0.0</td>\n",
       "      <td>1.0</td>\n",
       "      <td>0.0</td>\n",
       "      <td>0.0</td>\n",
       "      <td>0.0</td>\n",
       "      <td>0.0</td>\n",
       "      <td>1.0</td>\n",
       "      <td>1.0</td>\n",
       "      <td>2.5</td>\n",
       "      <td>0.0</td>\n",
       "      <td>1</td>\n",
       "      <td>92</td>\n",
       "      <td>90</td>\n",
       "      <td>1.0</td>\n",
       "    </tr>\n",
       "    <tr>\n",
       "      <th>3</th>\n",
       "      <td>-0.891937</td>\n",
       "      <td>0.804651</td>\n",
       "      <td>0.444011</td>\n",
       "      <td>-0.27781</td>\n",
       "      <td>-0.87717</td>\n",
       "      <td>1.0</td>\n",
       "      <td>0.0</td>\n",
       "      <td>0.0</td>\n",
       "      <td>1.0</td>\n",
       "      <td>0.0</td>\n",
       "      <td>0.0</td>\n",
       "      <td>0.0</td>\n",
       "      <td>1.0</td>\n",
       "      <td>1.0</td>\n",
       "      <td>2.5</td>\n",
       "      <td>0.0</td>\n",
       "      <td>0</td>\n",
       "      <td>19</td>\n",
       "      <td>102</td>\n",
       "      <td>1.0</td>\n",
       "    </tr>\n",
       "    <tr>\n",
       "      <th>4</th>\n",
       "      <td>0.536522</td>\n",
       "      <td>-0.99161</td>\n",
       "      <td>-1.541865</td>\n",
       "      <td>-0.27781</td>\n",
       "      <td>-0.075128</td>\n",
       "      <td>1.0</td>\n",
       "      <td>0.0</td>\n",
       "      <td>1.0</td>\n",
       "      <td>0.0</td>\n",
       "      <td>0.0</td>\n",
       "      <td>0.0</td>\n",
       "      <td>0.0</td>\n",
       "      <td>1.0</td>\n",
       "      <td>1.0</td>\n",
       "      <td>0.0</td>\n",
       "      <td>0.0</td>\n",
       "      <td>1</td>\n",
       "      <td>131</td>\n",
       "      <td>229</td>\n",
       "      <td>1.0</td>\n",
       "    </tr>\n",
       "  </tbody>\n",
       "</table>\n",
       "</div>"
      ],
      "text/plain": [
       "  trip_distance     extra tip_amount tolls_amount time_difference store_fwd_N  \\\n",
       "0      0.776478 -0.478392   0.265885     -0.27781       -1.892789         1.0   \n",
       "1     -0.133345  0.291434   0.295698     -0.27781        -1.23402         1.0   \n",
       "2     -0.780241  0.291434   -0.33453     -0.27781        0.782031         1.0   \n",
       "3     -0.891937  0.804651   0.444011     -0.27781        -0.87717         1.0   \n",
       "4      0.536522  -0.99161  -1.541865     -0.27781       -0.075128         1.0   \n",
       "\n",
       "  store_fwd_Y   c1   c2   c3   c4   c5 passenger_count RatecodeID  \\\n",
       "0         0.0  0.0  1.0  0.0  0.0  0.0             1.0        1.0   \n",
       "1         0.0  0.0  1.0  0.0  0.0  0.0             1.0        1.0   \n",
       "2         0.0  1.0  0.0  0.0  0.0  0.0             1.0        1.0   \n",
       "3         0.0  0.0  1.0  0.0  0.0  0.0             1.0        1.0   \n",
       "4         0.0  1.0  0.0  0.0  0.0  0.0             1.0        1.0   \n",
       "\n",
       "  congestion_surcharge Airport_fee VendorID PULocationID DOLocationID  \\\n",
       "0                  2.5         0.0        1           20            3   \n",
       "1                  2.5         0.0        1            9           81   \n",
       "2                  2.5         0.0        1           92           90   \n",
       "3                  2.5         0.0        0           19          102   \n",
       "4                  0.0         0.0        1          131          229   \n",
       "\n",
       "  improvement_surcharge  \n",
       "0                   1.0  \n",
       "1                   1.0  \n",
       "2                   1.0  \n",
       "3                   1.0  \n",
       "4                   1.0  "
      ]
     },
     "execution_count": 41,
     "metadata": {},
     "output_type": "execute_result"
    }
   ],
   "source": [
    "transform_test.head()"
   ]
  },
  {
   "cell_type": "markdown",
   "id": "baa758e0",
   "metadata": {
    "papermill": {
     "duration": 0.030586,
     "end_time": "2023-12-03T18:47:41.645799",
     "exception": false,
     "start_time": "2023-12-03T18:47:41.615213",
     "status": "completed"
    },
    "tags": []
   },
   "source": [
    "**Train - Test spliting**"
   ]
  },
  {
   "cell_type": "code",
   "execution_count": 42,
   "id": "fb0b8570",
   "metadata": {
    "execution": {
     "iopub.execute_input": "2023-12-03T18:47:41.709133Z",
     "iopub.status.busy": "2023-12-03T18:47:41.708702Z",
     "iopub.status.idle": "2023-12-03T18:47:41.713688Z",
     "shell.execute_reply": "2023-12-03T18:47:41.712628Z"
    },
    "papermill": {
     "duration": 0.039344,
     "end_time": "2023-12-03T18:47:41.715848",
     "exception": false,
     "start_time": "2023-12-03T18:47:41.676504",
     "status": "completed"
    },
    "tags": []
   },
   "outputs": [],
   "source": [
    "from sklearn.model_selection import train_test_split"
   ]
  },
  {
   "cell_type": "code",
   "execution_count": 43,
   "id": "abe30801",
   "metadata": {
    "execution": {
     "iopub.execute_input": "2023-12-03T18:47:41.781751Z",
     "iopub.status.busy": "2023-12-03T18:47:41.781356Z",
     "iopub.status.idle": "2023-12-03T18:47:41.989765Z",
     "shell.execute_reply": "2023-12-03T18:47:41.988595Z"
    },
    "papermill": {
     "duration": 0.243846,
     "end_time": "2023-12-03T18:47:41.992646",
     "exception": false,
     "start_time": "2023-12-03T18:47:41.748800",
     "status": "completed"
    },
    "tags": []
   },
   "outputs": [],
   "source": [
    "x_train,x_test,y_train,y_test=train_test_split(transform_df,target_column,test_size=0.2,random_state=42)"
   ]
  },
  {
   "cell_type": "markdown",
   "id": "1268928b",
   "metadata": {
    "papermill": {
     "duration": 0.03182,
     "end_time": "2023-12-03T18:47:42.055841",
     "exception": false,
     "start_time": "2023-12-03T18:47:42.024021",
     "status": "completed"
    },
    "tags": []
   },
   "source": [
    "*****"
   ]
  },
  {
   "cell_type": "markdown",
   "id": "e1611bb2",
   "metadata": {
    "papermill": {
     "duration": 0.030783,
     "end_time": "2023-12-03T18:47:42.118046",
     "exception": false,
     "start_time": "2023-12-03T18:47:42.087263",
     "status": "completed"
    },
    "tags": []
   },
   "source": [
    "# Model Training"
   ]
  },
  {
   "cell_type": "code",
   "execution_count": 44,
   "id": "82adf5c1",
   "metadata": {
    "execution": {
     "iopub.execute_input": "2023-12-03T18:47:42.183459Z",
     "iopub.status.busy": "2023-12-03T18:47:42.183083Z",
     "iopub.status.idle": "2023-12-03T18:47:42.350646Z",
     "shell.execute_reply": "2023-12-03T18:47:42.349372Z"
    },
    "papermill": {
     "duration": 0.203797,
     "end_time": "2023-12-03T18:47:42.353312",
     "exception": false,
     "start_time": "2023-12-03T18:47:42.149515",
     "status": "completed"
    },
    "tags": []
   },
   "outputs": [],
   "source": [
    "from sklearn.ensemble import RandomForestRegressor,GradientBoostingRegressor\n",
    "from sklearn.tree import DecisionTreeRegressor\n",
    "from sklearn.model_selection import GridSearchCV,cross_val_score,KFold\n",
    "from sklearn.linear_model import LinearRegression\n",
    "from sklearn.metrics import r2_score,mean_squared_error,mean_absolute_error"
   ]
  },
  {
   "cell_type": "markdown",
   "id": "9bf7cd7f",
   "metadata": {
    "papermill": {
     "duration": 0.03097,
     "end_time": "2023-12-03T18:47:42.415360",
     "exception": false,
     "start_time": "2023-12-03T18:47:42.384390",
     "status": "completed"
    },
    "tags": []
   },
   "source": [
    "**Linear Regression**"
   ]
  },
  {
   "cell_type": "code",
   "execution_count": 45,
   "id": "67643d13",
   "metadata": {
    "execution": {
     "iopub.execute_input": "2023-12-03T18:47:42.479760Z",
     "iopub.status.busy": "2023-12-03T18:47:42.479390Z",
     "iopub.status.idle": "2023-12-03T18:47:42.483583Z",
     "shell.execute_reply": "2023-12-03T18:47:42.482673Z"
    },
    "papermill": {
     "duration": 0.038612,
     "end_time": "2023-12-03T18:47:42.485581",
     "exception": false,
     "start_time": "2023-12-03T18:47:42.446969",
     "status": "completed"
    },
    "tags": []
   },
   "outputs": [],
   "source": [
    "l=LinearRegression()"
   ]
  },
  {
   "cell_type": "code",
   "execution_count": 46,
   "id": "b93e1b05",
   "metadata": {
    "execution": {
     "iopub.execute_input": "2023-12-03T18:47:42.550226Z",
     "iopub.status.busy": "2023-12-03T18:47:42.549529Z",
     "iopub.status.idle": "2023-12-03T18:47:43.374300Z",
     "shell.execute_reply": "2023-12-03T18:47:43.372780Z"
    },
    "papermill": {
     "duration": 0.86276,
     "end_time": "2023-12-03T18:47:43.379285",
     "exception": false,
     "start_time": "2023-12-03T18:47:42.516525",
     "status": "completed"
    },
    "tags": []
   },
   "outputs": [
    {
     "name": "stdout",
     "output_type": "stream",
     "text": [
      "-------Linear Regression-------\n",
      "R2 score : 0.787198\n",
      "Mean Squared Error : 138.482402\n",
      "Mean Absolute Error : 5.526658\n"
     ]
    }
   ],
   "source": [
    "print('-------Linear Regression-------')\n",
    "l.fit(x_train,y_train)\n",
    "print('R2 score :',round(r2_score(y_test,l.predict(x_test)),6))\n",
    "print('Mean Squared Error :',round(mean_squared_error(y_test,l.predict(x_test)),6))\n",
    "print('Mean Absolute Error :',round(mean_absolute_error(y_test,l.predict(x_test)),6))"
   ]
  },
  {
   "cell_type": "markdown",
   "id": "973aa4f5",
   "metadata": {
    "papermill": {
     "duration": 0.049816,
     "end_time": "2023-12-03T18:47:43.497170",
     "exception": false,
     "start_time": "2023-12-03T18:47:43.447354",
     "status": "completed"
    },
    "tags": []
   },
   "source": [
    "**Decision Tree Regression**"
   ]
  },
  {
   "cell_type": "code",
   "execution_count": 47,
   "id": "f88055f0",
   "metadata": {
    "execution": {
     "iopub.execute_input": "2023-12-03T18:47:43.560800Z",
     "iopub.status.busy": "2023-12-03T18:47:43.560426Z",
     "iopub.status.idle": "2023-12-03T18:47:43.564678Z",
     "shell.execute_reply": "2023-12-03T18:47:43.563849Z"
    },
    "papermill": {
     "duration": 0.038378,
     "end_time": "2023-12-03T18:47:43.566610",
     "exception": false,
     "start_time": "2023-12-03T18:47:43.528232",
     "status": "completed"
    },
    "tags": []
   },
   "outputs": [],
   "source": [
    "d=DecisionTreeRegressor()"
   ]
  },
  {
   "cell_type": "code",
   "execution_count": 48,
   "id": "47a854a6",
   "metadata": {
    "execution": {
     "iopub.execute_input": "2023-12-03T18:47:43.630965Z",
     "iopub.status.busy": "2023-12-03T18:47:43.630245Z",
     "iopub.status.idle": "2023-12-03T18:47:46.069346Z",
     "shell.execute_reply": "2023-12-03T18:47:46.068148Z"
    },
    "papermill": {
     "duration": 2.473964,
     "end_time": "2023-12-03T18:47:46.071666",
     "exception": false,
     "start_time": "2023-12-03T18:47:43.597702",
     "status": "completed"
    },
    "tags": []
   },
   "outputs": [
    {
     "name": "stdout",
     "output_type": "stream",
     "text": [
      "--------Decision Tree Regression-------\n",
      "R2 score : 0.895608\n",
      "Mean Squared Error  : 67.933762\n",
      "Mean Absolute Error : 3.828133\n"
     ]
    }
   ],
   "source": [
    "print('--------Decision Tree Regression-------')\n",
    "d.fit(x_train,y_train)\n",
    "print('R2 score :',round(r2_score(y_test,d.predict(x_test)),6))\n",
    "print('Mean Squared Error  :',round(mean_squared_error(y_test,d.predict(x_test)),6))\n",
    "print('Mean Absolute Error :',round(mean_absolute_error(y_test,d.predict(x_test)),6))"
   ]
  },
  {
   "cell_type": "code",
   "execution_count": 49,
   "id": "44bb9583",
   "metadata": {
    "execution": {
     "iopub.execute_input": "2023-12-03T18:47:46.139082Z",
     "iopub.status.busy": "2023-12-03T18:47:46.138040Z",
     "iopub.status.idle": "2023-12-03T18:48:06.794623Z",
     "shell.execute_reply": "2023-12-03T18:48:06.793481Z"
    },
    "papermill": {
     "duration": 20.693032,
     "end_time": "2023-12-03T18:48:06.797709",
     "exception": false,
     "start_time": "2023-12-03T18:47:46.104677",
     "status": "completed"
    },
    "tags": []
   },
   "outputs": [
    {
     "name": "stdout",
     "output_type": "stream",
     "text": [
      "Means of R2 scores:  0.8835156936261745\n"
     ]
    }
   ],
   "source": [
    "kfold=KFold(10)\n",
    "results=cross_val_score(d,x_train,y_train,cv=kfold)\n",
    "print('Means of R2 scores: ',np.mean(results))"
   ]
  },
  {
   "cell_type": "code",
   "execution_count": 50,
   "id": "4f6e762f",
   "metadata": {
    "execution": {
     "iopub.execute_input": "2023-12-03T18:48:06.864245Z",
     "iopub.status.busy": "2023-12-03T18:48:06.863810Z",
     "iopub.status.idle": "2023-12-03T18:48:06.868960Z",
     "shell.execute_reply": "2023-12-03T18:48:06.867968Z"
    },
    "papermill": {
     "duration": 0.041798,
     "end_time": "2023-12-03T18:48:06.871626",
     "exception": false,
     "start_time": "2023-12-03T18:48:06.829828",
     "status": "completed"
    },
    "tags": []
   },
   "outputs": [],
   "source": [
    "get_params={\n",
    "    'max_depth':[3,4,5,7,10,12,14,16],\n",
    "    'min_samples_split':[2,3,4,5]\n",
    "}"
   ]
  },
  {
   "cell_type": "code",
   "execution_count": 51,
   "id": "db886898",
   "metadata": {
    "execution": {
     "iopub.execute_input": "2023-12-03T18:48:06.936451Z",
     "iopub.status.busy": "2023-12-03T18:48:06.935652Z",
     "iopub.status.idle": "2023-12-03T18:48:06.940665Z",
     "shell.execute_reply": "2023-12-03T18:48:06.939872Z"
    },
    "papermill": {
     "duration": 0.039658,
     "end_time": "2023-12-03T18:48:06.942757",
     "exception": false,
     "start_time": "2023-12-03T18:48:06.903099",
     "status": "completed"
    },
    "tags": []
   },
   "outputs": [],
   "source": [
    "gd=GridSearchCV(d,param_grid=get_params,cv=5,n_jobs=-1)"
   ]
  },
  {
   "cell_type": "code",
   "execution_count": 52,
   "id": "97d577c3",
   "metadata": {
    "execution": {
     "iopub.execute_input": "2023-12-03T18:48:07.008302Z",
     "iopub.status.busy": "2023-12-03T18:48:07.007668Z",
     "iopub.status.idle": "2023-12-03T18:49:49.200561Z",
     "shell.execute_reply": "2023-12-03T18:49:49.199087Z"
    },
    "papermill": {
     "duration": 102.257537,
     "end_time": "2023-12-03T18:49:49.232219",
     "exception": false,
     "start_time": "2023-12-03T18:48:06.974682",
     "status": "completed"
    },
    "tags": []
   },
   "outputs": [
    {
     "name": "stdout",
     "output_type": "stream",
     "text": [
      "###### After HyperParameter Tuning ######\n",
      "-----Decision Tree Regressor-----\n",
      "R2 score : 0.931168\n",
      "Mean Squared Error  : 44.79298\n",
      "Mean Absolute Error : 3.009728\n"
     ]
    }
   ],
   "source": [
    "#R2 score after hyper parameter tuning\n",
    "print('###### After HyperParameter Tuning ######')\n",
    "print('-----Decision Tree Regressor-----')\n",
    "gd.fit(x_train,y_train)\n",
    "print('R2 score :',round(r2_score(y_test,gd.predict(x_test)),6))\n",
    "print('Mean Squared Error  :',round(mean_squared_error(y_test,gd.predict(x_test)),6))\n",
    "print('Mean Absolute Error :',round(mean_absolute_error(y_test,gd.predict(x_test)),6))"
   ]
  },
  {
   "cell_type": "code",
   "execution_count": 53,
   "id": "ff8748fe",
   "metadata": {
    "execution": {
     "iopub.execute_input": "2023-12-03T18:49:49.298218Z",
     "iopub.status.busy": "2023-12-03T18:49:49.297793Z",
     "iopub.status.idle": "2023-12-03T18:49:49.312405Z",
     "shell.execute_reply": "2023-12-03T18:49:49.311322Z"
    },
    "papermill": {
     "duration": 0.05071,
     "end_time": "2023-12-03T18:49:49.314698",
     "exception": false,
     "start_time": "2023-12-03T18:49:49.263988",
     "status": "completed"
    },
    "tags": []
   },
   "outputs": [
    {
     "data": {
      "text/html": [
       "<style>#sk-container-id-1 {color: black;background-color: white;}#sk-container-id-1 pre{padding: 0;}#sk-container-id-1 div.sk-toggleable {background-color: white;}#sk-container-id-1 label.sk-toggleable__label {cursor: pointer;display: block;width: 100%;margin-bottom: 0;padding: 0.3em;box-sizing: border-box;text-align: center;}#sk-container-id-1 label.sk-toggleable__label-arrow:before {content: \"▸\";float: left;margin-right: 0.25em;color: #696969;}#sk-container-id-1 label.sk-toggleable__label-arrow:hover:before {color: black;}#sk-container-id-1 div.sk-estimator:hover label.sk-toggleable__label-arrow:before {color: black;}#sk-container-id-1 div.sk-toggleable__content {max-height: 0;max-width: 0;overflow: hidden;text-align: left;background-color: #f0f8ff;}#sk-container-id-1 div.sk-toggleable__content pre {margin: 0.2em;color: black;border-radius: 0.25em;background-color: #f0f8ff;}#sk-container-id-1 input.sk-toggleable__control:checked~div.sk-toggleable__content {max-height: 200px;max-width: 100%;overflow: auto;}#sk-container-id-1 input.sk-toggleable__control:checked~label.sk-toggleable__label-arrow:before {content: \"▾\";}#sk-container-id-1 div.sk-estimator input.sk-toggleable__control:checked~label.sk-toggleable__label {background-color: #d4ebff;}#sk-container-id-1 div.sk-label input.sk-toggleable__control:checked~label.sk-toggleable__label {background-color: #d4ebff;}#sk-container-id-1 input.sk-hidden--visually {border: 0;clip: rect(1px 1px 1px 1px);clip: rect(1px, 1px, 1px, 1px);height: 1px;margin: -1px;overflow: hidden;padding: 0;position: absolute;width: 1px;}#sk-container-id-1 div.sk-estimator {font-family: monospace;background-color: #f0f8ff;border: 1px dotted black;border-radius: 0.25em;box-sizing: border-box;margin-bottom: 0.5em;}#sk-container-id-1 div.sk-estimator:hover {background-color: #d4ebff;}#sk-container-id-1 div.sk-parallel-item::after {content: \"\";width: 100%;border-bottom: 1px solid gray;flex-grow: 1;}#sk-container-id-1 div.sk-label:hover label.sk-toggleable__label {background-color: #d4ebff;}#sk-container-id-1 div.sk-serial::before {content: \"\";position: absolute;border-left: 1px solid gray;box-sizing: border-box;top: 0;bottom: 0;left: 50%;z-index: 0;}#sk-container-id-1 div.sk-serial {display: flex;flex-direction: column;align-items: center;background-color: white;padding-right: 0.2em;padding-left: 0.2em;position: relative;}#sk-container-id-1 div.sk-item {position: relative;z-index: 1;}#sk-container-id-1 div.sk-parallel {display: flex;align-items: stretch;justify-content: center;background-color: white;position: relative;}#sk-container-id-1 div.sk-item::before, #sk-container-id-1 div.sk-parallel-item::before {content: \"\";position: absolute;border-left: 1px solid gray;box-sizing: border-box;top: 0;bottom: 0;left: 50%;z-index: -1;}#sk-container-id-1 div.sk-parallel-item {display: flex;flex-direction: column;z-index: 1;position: relative;background-color: white;}#sk-container-id-1 div.sk-parallel-item:first-child::after {align-self: flex-end;width: 50%;}#sk-container-id-1 div.sk-parallel-item:last-child::after {align-self: flex-start;width: 50%;}#sk-container-id-1 div.sk-parallel-item:only-child::after {width: 0;}#sk-container-id-1 div.sk-dashed-wrapped {border: 1px dashed gray;margin: 0 0.4em 0.5em 0.4em;box-sizing: border-box;padding-bottom: 0.4em;background-color: white;}#sk-container-id-1 div.sk-label label {font-family: monospace;font-weight: bold;display: inline-block;line-height: 1.2em;}#sk-container-id-1 div.sk-label-container {text-align: center;}#sk-container-id-1 div.sk-container {/* jupyter's `normalize.less` sets `[hidden] { display: none; }` but bootstrap.min.css set `[hidden] { display: none !important; }` so we also need the `!important` here to be able to override the default hidden behavior on the sphinx rendered scikit-learn.org. See: https://github.com/scikit-learn/scikit-learn/issues/21755 */display: inline-block !important;position: relative;}#sk-container-id-1 div.sk-text-repr-fallback {display: none;}</style><div id=\"sk-container-id-1\" class=\"sk-top-container\"><div class=\"sk-text-repr-fallback\"><pre>DecisionTreeRegressor(max_depth=12, min_samples_split=5)</pre><b>In a Jupyter environment, please rerun this cell to show the HTML representation or trust the notebook. <br />On GitHub, the HTML representation is unable to render, please try loading this page with nbviewer.org.</b></div><div class=\"sk-container\" hidden><div class=\"sk-item\"><div class=\"sk-estimator sk-toggleable\"><input class=\"sk-toggleable__control sk-hidden--visually\" id=\"sk-estimator-id-1\" type=\"checkbox\" checked><label for=\"sk-estimator-id-1\" class=\"sk-toggleable__label sk-toggleable__label-arrow\">DecisionTreeRegressor</label><div class=\"sk-toggleable__content\"><pre>DecisionTreeRegressor(max_depth=12, min_samples_split=5)</pre></div></div></div></div></div>"
      ],
      "text/plain": [
       "DecisionTreeRegressor(max_depth=12, min_samples_split=5)"
      ]
     },
     "execution_count": 53,
     "metadata": {},
     "output_type": "execute_result"
    }
   ],
   "source": [
    "gd.best_estimator_"
   ]
  },
  {
   "cell_type": "markdown",
   "id": "8114b9d1",
   "metadata": {
    "papermill": {
     "duration": 0.031849,
     "end_time": "2023-12-03T18:49:49.379216",
     "exception": false,
     "start_time": "2023-12-03T18:49:49.347367",
     "status": "completed"
    },
    "tags": []
   },
   "source": [
    "**Random Forest Regressor**"
   ]
  },
  {
   "cell_type": "code",
   "execution_count": 54,
   "id": "f4fce9a0",
   "metadata": {
    "execution": {
     "iopub.execute_input": "2023-12-03T18:49:49.445802Z",
     "iopub.status.busy": "2023-12-03T18:49:49.445374Z",
     "iopub.status.idle": "2023-12-03T18:49:49.449986Z",
     "shell.execute_reply": "2023-12-03T18:49:49.449180Z"
    },
    "papermill": {
     "duration": 0.040585,
     "end_time": "2023-12-03T18:49:49.452022",
     "exception": false,
     "start_time": "2023-12-03T18:49:49.411437",
     "status": "completed"
    },
    "tags": []
   },
   "outputs": [],
   "source": [
    "r=RandomForestRegressor()"
   ]
  },
  {
   "cell_type": "code",
   "execution_count": 55,
   "id": "843ee65e",
   "metadata": {
    "execution": {
     "iopub.execute_input": "2023-12-03T18:49:49.518609Z",
     "iopub.status.busy": "2023-12-03T18:49:49.518181Z",
     "iopub.status.idle": "2023-12-03T18:52:00.452239Z",
     "shell.execute_reply": "2023-12-03T18:52:00.450971Z"
    },
    "papermill": {
     "duration": 130.970617,
     "end_time": "2023-12-03T18:52:00.454920",
     "exception": false,
     "start_time": "2023-12-03T18:49:49.484303",
     "status": "completed"
    },
    "tags": []
   },
   "outputs": [
    {
     "name": "stdout",
     "output_type": "stream",
     "text": [
      "-----Random Forest Regressor-----\n",
      "R2 score : 0.9563868392925247\n",
      "Mean Squared Error : 28.38161982582656\n",
      "Mean Absolute Error : 2.760094391428572\n"
     ]
    }
   ],
   "source": [
    "r.fit(x_train,y_train)\n",
    "print('-----Random Forest Regressor-----')\n",
    "print('R2 score :',r2_score(y_test,r.predict(x_test)))\n",
    "print('Mean Squared Error :',mean_squared_error(y_test,r.predict(x_test)))\n",
    "print('Mean Absolute Error :',mean_absolute_error(y_test,r.predict(x_test)))"
   ]
  },
  {
   "cell_type": "markdown",
   "id": "fab36501",
   "metadata": {
    "papermill": {
     "duration": 0.032602,
     "end_time": "2023-12-03T18:52:00.520538",
     "exception": false,
     "start_time": "2023-12-03T18:52:00.487936",
     "status": "completed"
    },
    "tags": []
   },
   "source": [
    "**Model Comparison**"
   ]
  },
  {
   "cell_type": "code",
   "execution_count": 56,
   "id": "77a9b5f1",
   "metadata": {
    "execution": {
     "iopub.execute_input": "2023-12-03T18:52:00.588985Z",
     "iopub.status.busy": "2023-12-03T18:52:00.588361Z",
     "iopub.status.idle": "2023-12-03T18:52:02.741311Z",
     "shell.execute_reply": "2023-12-03T18:52:02.740241Z"
    },
    "papermill": {
     "duration": 2.189724,
     "end_time": "2023-12-03T18:52:02.743640",
     "exception": false,
     "start_time": "2023-12-03T18:52:00.553916",
     "status": "completed"
    },
    "tags": []
   },
   "outputs": [
    {
     "name": "stdout",
     "output_type": "stream",
     "text": [
      "Accuracy Score: \n",
      "Linear Regression:  0.7871983594521687\n",
      "Decision Tree Regression:  0.9311680084408266\n",
      "Random Forest Regression:  0.9563868392925247\n"
     ]
    }
   ],
   "source": [
    "# comparison of 3 models\n",
    "print('Accuracy Score: ')\n",
    "print('Linear Regression: ',r2_score(y_test,l.predict(x_test)))\n",
    "print('Decision Tree Regression: ',r2_score(y_test,gd.predict(x_test)))\n",
    "print('Random Forest Regression: ',r2_score(y_test,r.predict(x_test)))"
   ]
  },
  {
   "cell_type": "markdown",
   "id": "6c958c21",
   "metadata": {
    "papermill": {
     "duration": 0.039805,
     "end_time": "2023-12-03T18:52:02.816817",
     "exception": false,
     "start_time": "2023-12-03T18:52:02.777012",
     "status": "completed"
    },
    "tags": []
   },
   "source": [
    "Random Forest regressor is giving best score among 3 models so for final sunbmission Random forest regression is used."
   ]
  },
  {
   "cell_type": "code",
   "execution_count": 57,
   "id": "d6def501",
   "metadata": {
    "execution": {
     "iopub.execute_input": "2023-12-03T18:52:02.886838Z",
     "iopub.status.busy": "2023-12-03T18:52:02.885676Z",
     "iopub.status.idle": "2023-12-03T18:52:36.655865Z",
     "shell.execute_reply": "2023-12-03T18:52:36.654783Z"
    },
    "papermill": {
     "duration": 33.808305,
     "end_time": "2023-12-03T18:52:36.658738",
     "exception": false,
     "start_time": "2023-12-03T18:52:02.850433",
     "status": "completed"
    },
    "tags": []
   },
   "outputs": [],
   "source": [
    "#Training the whole train data and predict the values for test data\n",
    "g=GradientBoostingRegressor()\n",
    "g.fit(transform_df,target_column)\n",
    "y_pred=g.predict(transform_test)"
   ]
  },
  {
   "cell_type": "code",
   "execution_count": 58,
   "id": "98781a06",
   "metadata": {
    "execution": {
     "iopub.execute_input": "2023-12-03T18:52:36.727266Z",
     "iopub.status.busy": "2023-12-03T18:52:36.726850Z",
     "iopub.status.idle": "2023-12-03T18:52:36.746169Z",
     "shell.execute_reply": "2023-12-03T18:52:36.744973Z"
    },
    "papermill": {
     "duration": 0.05642,
     "end_time": "2023-12-03T18:52:36.748661",
     "exception": false,
     "start_time": "2023-12-03T18:52:36.692241",
     "status": "completed"
    },
    "tags": []
   },
   "outputs": [
    {
     "data": {
      "text/html": [
       "<div>\n",
       "<style scoped>\n",
       "    .dataframe tbody tr th:only-of-type {\n",
       "        vertical-align: middle;\n",
       "    }\n",
       "\n",
       "    .dataframe tbody tr th {\n",
       "        vertical-align: top;\n",
       "    }\n",
       "\n",
       "    .dataframe thead th {\n",
       "        text-align: right;\n",
       "    }\n",
       "</style>\n",
       "<table border=\"1\" class=\"dataframe\">\n",
       "  <thead>\n",
       "    <tr style=\"text-align: right;\">\n",
       "      <th></th>\n",
       "      <th>ID</th>\n",
       "      <th>total_amount</th>\n",
       "    </tr>\n",
       "  </thead>\n",
       "  <tbody>\n",
       "    <tr>\n",
       "      <th>0</th>\n",
       "      <td>1</td>\n",
       "      <td>24.456348</td>\n",
       "    </tr>\n",
       "    <tr>\n",
       "      <th>1</th>\n",
       "      <td>2</td>\n",
       "      <td>24.374058</td>\n",
       "    </tr>\n",
       "    <tr>\n",
       "      <th>2</th>\n",
       "      <td>3</td>\n",
       "      <td>19.878154</td>\n",
       "    </tr>\n",
       "    <tr>\n",
       "      <th>3</th>\n",
       "      <td>4</td>\n",
       "      <td>25.015569</td>\n",
       "    </tr>\n",
       "    <tr>\n",
       "      <th>4</th>\n",
       "      <td>5</td>\n",
       "      <td>22.252489</td>\n",
       "    </tr>\n",
       "  </tbody>\n",
       "</table>\n",
       "</div>"
      ],
      "text/plain": [
       "   ID  total_amount\n",
       "0   1     24.456348\n",
       "1   2     24.374058\n",
       "2   3     19.878154\n",
       "3   4     25.015569\n",
       "4   5     22.252489"
      ]
     },
     "execution_count": 58,
     "metadata": {},
     "output_type": "execute_result"
    }
   ],
   "source": [
    "sample=pd.read_csv('/kaggle/input/taxi-fare-guru-total-amount-prediction-challenge/sample.csv.csv')\n",
    "sample.head()"
   ]
  },
  {
   "cell_type": "code",
   "execution_count": 59,
   "id": "64487b8e",
   "metadata": {
    "execution": {
     "iopub.execute_input": "2023-12-03T18:52:36.817757Z",
     "iopub.status.busy": "2023-12-03T18:52:36.817382Z",
     "iopub.status.idle": "2023-12-03T18:52:37.087417Z",
     "shell.execute_reply": "2023-12-03T18:52:37.086418Z"
    },
    "papermill": {
     "duration": 0.308308,
     "end_time": "2023-12-03T18:52:37.090484",
     "exception": false,
     "start_time": "2023-12-03T18:52:36.782176",
     "status": "completed"
    },
    "tags": []
   },
   "outputs": [],
   "source": [
    "# submission file\n",
    "submission=pd.DataFrame(columns=['ID','total_amount'])\n",
    "submission['ID']=[i+1 for i in range(len(y_pred))]\n",
    "submission['total_amount']=y_pred\n",
    "submission.to_csv('submission.csv',index=False)"
   ]
  },
  {
   "cell_type": "code",
   "execution_count": null,
   "id": "d24741eb",
   "metadata": {
    "papermill": {
     "duration": 0.034062,
     "end_time": "2023-12-03T18:52:37.158622",
     "exception": false,
     "start_time": "2023-12-03T18:52:37.124560",
     "status": "completed"
    },
    "tags": []
   },
   "outputs": [],
   "source": []
  }
 ],
 "metadata": {
  "kaggle": {
   "accelerator": "none",
   "dataSources": [
    {
     "databundleVersionId": 6604167,
     "sourceId": 61246,
     "sourceType": "competition"
    }
   ],
   "dockerImageVersionId": 30558,
   "isGpuEnabled": false,
   "isInternetEnabled": true,
   "language": "python",
   "sourceType": "notebook"
  },
  "kernelspec": {
   "display_name": "Python 3",
   "language": "python",
   "name": "python3"
  },
  "language_info": {
   "codemirror_mode": {
    "name": "ipython",
    "version": 3
   },
   "file_extension": ".py",
   "mimetype": "text/x-python",
   "name": "python",
   "nbconvert_exporter": "python",
   "pygments_lexer": "ipython3",
   "version": "3.10.12"
  },
  "papermill": {
   "default_parameters": {},
   "duration": 319.572718,
   "end_time": "2023-12-03T18:52:39.915055",
   "environment_variables": {},
   "exception": null,
   "input_path": "__notebook__.ipynb",
   "output_path": "__notebook__.ipynb",
   "parameters": {},
   "start_time": "2023-12-03T18:47:20.342337",
   "version": "2.4.0"
  }
 },
 "nbformat": 4,
 "nbformat_minor": 5
}
